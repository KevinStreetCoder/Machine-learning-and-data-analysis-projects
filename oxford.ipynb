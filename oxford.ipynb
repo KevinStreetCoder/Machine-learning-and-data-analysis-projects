{
 "cells": [
  {
   "cell_type": "code",
   "execution_count": 3,
   "metadata": {},
   "outputs": [],
   "source": [
    "import numpy as np\n",
    "import pandas as pd\n",
    "pd.set_option('mode.chained_assignment','raise')\n",
    "import matplotlib.pyplot as plt\n",
    "%matplotlib inline\n"
   ]
  },
  {
   "cell_type": "code",
   "execution_count": 4,
   "metadata": {},
   "outputs": [
    {
     "data": {
      "text/html": [
       "<div>\n",
       "<style scoped>\n",
       "    .dataframe tbody tr th:only-of-type {\n",
       "        vertical-align: middle;\n",
       "    }\n",
       "\n",
       "    .dataframe tbody tr th {\n",
       "        vertical-align: top;\n",
       "    }\n",
       "\n",
       "    .dataframe thead th {\n",
       "        text-align: right;\n",
       "    }\n",
       "</style>\n",
       "<table border=\"1\" class=\"dataframe\">\n",
       "  <thead>\n",
       "    <tr style=\"text-align: right;\">\n",
       "      <th></th>\n",
       "      <th>Dose</th>\n",
       "      <th>Group</th>\n",
       "      <th>N</th>\n",
       "      <th>Cases</th>\n",
       "    </tr>\n",
       "  </thead>\n",
       "  <tbody>\n",
       "    <tr>\n",
       "      <th>0</th>\n",
       "      <td>LD</td>\n",
       "      <td>Control</td>\n",
       "      <td>1374</td>\n",
       "      <td>30</td>\n",
       "    </tr>\n",
       "    <tr>\n",
       "      <th>1</th>\n",
       "      <td>LD</td>\n",
       "      <td>Covax</td>\n",
       "      <td>1367</td>\n",
       "      <td>3</td>\n",
       "    </tr>\n",
       "    <tr>\n",
       "      <th>2</th>\n",
       "      <td>SD</td>\n",
       "      <td>Control</td>\n",
       "      <td>2430</td>\n",
       "      <td>38</td>\n",
       "    </tr>\n",
       "    <tr>\n",
       "      <th>3</th>\n",
       "      <td>SD</td>\n",
       "      <td>Covax</td>\n",
       "      <td>2377</td>\n",
       "      <td>15</td>\n",
       "    </tr>\n",
       "  </tbody>\n",
       "</table>\n",
       "</div>"
      ],
      "text/plain": [
       "  Dose    Group     N  Cases\n",
       "0   LD  Control  1374     30\n",
       "1   LD    Covax  1367      3\n",
       "2   SD  Control  2430     38\n",
       "3   SD    Covax  2377     15"
      ]
     },
     "execution_count": 4,
     "metadata": {},
     "output_type": "execute_result"
    }
   ],
   "source": [
    "ox_vax = pd.read_csv('ox_astra_cov002.csv')\n",
    "ox_vax"
   ]
  },
  {
   "cell_type": "code",
   "execution_count": 5,
   "metadata": {},
   "outputs": [
    {
     "data": {
      "text/plain": [
       "0.011393746687864335"
      ]
     },
     "execution_count": 5,
     "metadata": {},
     "output_type": "execute_result"
    }
   ],
   "source": [
    "c19_cases = sum(ox_vax['Cases'])\n",
    "total_pop = sum(ox_vax['N'])\n",
    "prop_covid = c19_cases/total_pop\n",
    "prop_covid"
   ]
  },
  {
   "cell_type": "code",
   "execution_count": 6,
   "metadata": {},
   "outputs": [
    {
     "data": {
      "text/plain": [
       "0.011393746687864335"
      ]
     },
     "execution_count": 6,
     "metadata": {},
     "output_type": "execute_result"
    }
   ],
   "source": [
    "def calc_prop_cases(df):\n",
    "    cases_df=sum(df['Cases'])\n",
    "    n_df = sum(df['N'])\n",
    "    prop = cases_df / n_df\n",
    "    return prop\n",
    "calc_prop_cases(ox_vax)"
   ]
  },
  {
   "cell_type": "code",
   "execution_count": 7,
   "metadata": {},
   "outputs": [
    {
     "data": {
      "text/plain": [
       "0.9886062533121357"
      ]
     },
     "execution_count": 7,
     "metadata": {},
     "output_type": "execute_result"
    }
   ],
   "source": [
    "vax_eff = 1 - calc_prop_cases(ox_vax)\n",
    "vax_eff"
   ]
  },
  {
   "cell_type": "code",
   "execution_count": 8,
   "metadata": {},
   "outputs": [
    {
     "data": {
      "text/plain": [
       "0.9886062533121357"
      ]
     },
     "execution_count": 8,
     "metadata": {},
     "output_type": "execute_result"
    }
   ],
   "source": [
    "def calc_efficiency(df):\n",
    "    RR = calc_prop_cases(df)\n",
    "    vax_eff = 1 - RR\n",
    "    return vax_eff\n",
    "calc_efficiency(ox_vax)"
   ]
  },
  {
   "cell_type": "code",
   "execution_count": 9,
   "metadata": {},
   "outputs": [
    {
     "name": "stdout",
     "output_type": "stream",
     "text": [
      "LD efficiency 0.9879605983217804\n",
      "SD efficiency 0.9889744123153734\n",
      "Efficiency difference -0.0010138139935930157\n"
     ]
    }
   ],
   "source": [
    "ld_vax_eff = calc_efficiency(ox_vax[ox_vax['Dose'].isin(['LD'])])\n",
    "sd_vax_eff = calc_efficiency(ox_vax[ox_vax['Dose'].isin(['SD'])])\n",
    "vax_eff_diff = ld_vax_eff - sd_vax_eff\n",
    "print('LD efficiency', ld_vax_eff)\n",
    "print('SD efficiency', sd_vax_eff)\n",
    "print('Efficiency difference', vax_eff_diff)"
   ]
  },
  {
   "cell_type": "code",
   "execution_count": 10,
   "metadata": {},
   "outputs": [
    {
     "data": {
      "text/plain": [
       "-0.0010138139935930157"
      ]
     },
     "execution_count": 10,
     "metadata": {},
     "output_type": "execute_result"
    }
   ],
   "source": [
    "def calc_ld_sd_ediff(df):\n",
    "    ld_vax_eff = calc_efficiency(df[df['Dose'].isin(['LD'])])\n",
    "    sd_vax_eff = calc_efficiency(df[df['Dose'].isin(['SD'])])\n",
    "    vax_eff_diff = ld_vax_eff - sd_vax_eff\n",
    "    return vax_eff_diff\n",
    "calc_ld_sd_ediff(ox_vax)"
   ]
  },
  {
   "cell_type": "code",
   "execution_count": 11,
   "metadata": {},
   "outputs": [
    {
     "data": {
      "text/html": [
       "<div>\n",
       "<style scoped>\n",
       "    .dataframe tbody tr th:only-of-type {\n",
       "        vertical-align: middle;\n",
       "    }\n",
       "\n",
       "    .dataframe tbody tr th {\n",
       "        vertical-align: top;\n",
       "    }\n",
       "\n",
       "    .dataframe thead th {\n",
       "        text-align: right;\n",
       "    }\n",
       "</style>\n",
       "<table border=\"1\" class=\"dataframe\">\n",
       "  <thead>\n",
       "    <tr style=\"text-align: right;\">\n",
       "      <th></th>\n",
       "      <th>Dose</th>\n",
       "      <th>Group</th>\n",
       "      <th>Case</th>\n",
       "    </tr>\n",
       "  </thead>\n",
       "  <tbody>\n",
       "    <tr>\n",
       "      <th>0</th>\n",
       "      <td>LD</td>\n",
       "      <td>Control</td>\n",
       "      <td>False</td>\n",
       "    </tr>\n",
       "    <tr>\n",
       "      <th>1</th>\n",
       "      <td>LD</td>\n",
       "      <td>Control</td>\n",
       "      <td>False</td>\n",
       "    </tr>\n",
       "    <tr>\n",
       "      <th>2</th>\n",
       "      <td>LD</td>\n",
       "      <td>Control</td>\n",
       "      <td>False</td>\n",
       "    </tr>\n",
       "    <tr>\n",
       "      <th>3</th>\n",
       "      <td>LD</td>\n",
       "      <td>Control</td>\n",
       "      <td>True</td>\n",
       "    </tr>\n",
       "    <tr>\n",
       "      <th>4</th>\n",
       "      <td>LD</td>\n",
       "      <td>Control</td>\n",
       "      <td>True</td>\n",
       "    </tr>\n",
       "  </tbody>\n",
       "</table>\n",
       "</div>"
      ],
      "text/plain": [
       "  Dose    Group   Case\n",
       "0   LD  Control  False\n",
       "1   LD  Control  False\n",
       "2   LD  Control  False\n",
       "3   LD  Control   True\n",
       "4   LD  Control   True"
      ]
     },
     "execution_count": 11,
     "metadata": {},
     "output_type": "execute_result"
    }
   ],
   "source": [
    "person_start = pd.DataFrame()\n",
    "person_start['Dose'] = np.repeat(['LD'], [5])\n",
    "person_start['Group'] = np.repeat(['Control'], [5])\n",
    "person_start['Case'] = np.repeat(['False','True'], [3,2])\n",
    "person_start"
   ]
  },
  {
   "cell_type": "code",
   "execution_count": 12,
   "metadata": {},
   "outputs": [
    {
     "data": {
      "text/html": [
       "<div>\n",
       "<style scoped>\n",
       "    .dataframe tbody tr th:only-of-type {\n",
       "        vertical-align: middle;\n",
       "    }\n",
       "\n",
       "    .dataframe tbody tr th {\n",
       "        vertical-align: top;\n",
       "    }\n",
       "\n",
       "    .dataframe thead th {\n",
       "        text-align: right;\n",
       "    }\n",
       "</style>\n",
       "<table border=\"1\" class=\"dataframe\">\n",
       "  <thead>\n",
       "    <tr style=\"text-align: right;\">\n",
       "      <th></th>\n",
       "      <th>Dose</th>\n",
       "    </tr>\n",
       "  </thead>\n",
       "  <tbody>\n",
       "    <tr>\n",
       "      <th>0</th>\n",
       "      <td>LD</td>\n",
       "    </tr>\n",
       "    <tr>\n",
       "      <th>1</th>\n",
       "      <td>LD</td>\n",
       "    </tr>\n",
       "    <tr>\n",
       "      <th>2</th>\n",
       "      <td>LD</td>\n",
       "    </tr>\n",
       "    <tr>\n",
       "      <th>3</th>\n",
       "      <td>LD</td>\n",
       "    </tr>\n",
       "    <tr>\n",
       "      <th>4</th>\n",
       "      <td>LD</td>\n",
       "    </tr>\n",
       "  </tbody>\n",
       "</table>\n",
       "</div>"
      ],
      "text/plain": [
       "  Dose\n",
       "0   LD\n",
       "1   LD\n",
       "2   LD\n",
       "3   LD\n",
       "4   LD"
      ]
     },
     "execution_count": 12,
     "metadata": {},
     "output_type": "execute_result"
    }
   ],
   "source": [
    "person_df = pd.DataFrame()\n",
    "n_per_cell = np.array(ox_vax['N'])\n",
    "person_df['Dose'] = np.repeat(['LD', 'LD', 'SD', 'SD'], n_per_cell)\n",
    "# Show the first five rows\n",
    "person_df.head()"
   ]
  },
  {
   "cell_type": "code",
   "execution_count": 13,
   "metadata": {},
   "outputs": [
    {
     "data": {
      "text/html": [
       "<div>\n",
       "<style scoped>\n",
       "    .dataframe tbody tr th:only-of-type {\n",
       "        vertical-align: middle;\n",
       "    }\n",
       "\n",
       "    .dataframe tbody tr th {\n",
       "        vertical-align: top;\n",
       "    }\n",
       "\n",
       "    .dataframe thead th {\n",
       "        text-align: right;\n",
       "    }\n",
       "</style>\n",
       "<table border=\"1\" class=\"dataframe\">\n",
       "  <thead>\n",
       "    <tr style=\"text-align: right;\">\n",
       "      <th></th>\n",
       "      <th>Dose</th>\n",
       "      <th>Group</th>\n",
       "    </tr>\n",
       "  </thead>\n",
       "  <tbody>\n",
       "    <tr>\n",
       "      <th>0</th>\n",
       "      <td>LD</td>\n",
       "      <td>Control</td>\n",
       "    </tr>\n",
       "    <tr>\n",
       "      <th>1</th>\n",
       "      <td>LD</td>\n",
       "      <td>Control</td>\n",
       "    </tr>\n",
       "    <tr>\n",
       "      <th>2</th>\n",
       "      <td>LD</td>\n",
       "      <td>Control</td>\n",
       "    </tr>\n",
       "    <tr>\n",
       "      <th>3</th>\n",
       "      <td>LD</td>\n",
       "      <td>Control</td>\n",
       "    </tr>\n",
       "    <tr>\n",
       "      <th>4</th>\n",
       "      <td>LD</td>\n",
       "      <td>Control</td>\n",
       "    </tr>\n",
       "  </tbody>\n",
       "</table>\n",
       "</div>"
      ],
      "text/plain": [
       "  Dose    Group\n",
       "0   LD  Control\n",
       "1   LD  Control\n",
       "2   LD  Control\n",
       "3   LD  Control\n",
       "4   LD  Control"
      ]
     },
     "execution_count": 13,
     "metadata": {},
     "output_type": "execute_result"
    }
   ],
   "source": [
    "person_df['Group'] = np.repeat(['Control', 'Covax', 'Control', 'Covax'], n_per_cell)\n",
    "person_df.head()"
   ]
  },
  {
   "cell_type": "code",
   "execution_count": 14,
   "metadata": {},
   "outputs": [
    {
     "data": {
      "text/plain": [
       "array([False,  True, False,  True, False,  True, False,  True])"
      ]
     },
     "execution_count": 14,
     "metadata": {},
     "output_type": "execute_result"
    }
   ],
   "source": [
    "# Run this cell.\n",
    "# \"Case\" will be False for non-case, True for case.\n",
    "# Start with all False\n",
    "to_repeat = np.repeat([False], len(n_per_cell) * 2)\n",
    "# Set every other value, from the second, to True\n",
    "to_repeat[1:len(to_repeat):2] = True\n",
    "# Note that we can do the same thing with this short-cut.\n",
    "to_repeat[1::2] = True\n",
    "# Show the result\n",
    "to_repeat"
   ]
  },
  {
   "cell_type": "code",
   "execution_count": 15,
   "metadata": {},
   "outputs": [
    {
     "data": {
      "text/html": [
       "<div>\n",
       "<style scoped>\n",
       "    .dataframe tbody tr th:only-of-type {\n",
       "        vertical-align: middle;\n",
       "    }\n",
       "\n",
       "    .dataframe tbody tr th {\n",
       "        vertical-align: top;\n",
       "    }\n",
       "\n",
       "    .dataframe thead th {\n",
       "        text-align: right;\n",
       "    }\n",
       "</style>\n",
       "<table border=\"1\" class=\"dataframe\">\n",
       "  <thead>\n",
       "    <tr style=\"text-align: right;\">\n",
       "      <th></th>\n",
       "      <th>Dose</th>\n",
       "      <th>Group</th>\n",
       "      <th>Case</th>\n",
       "    </tr>\n",
       "  </thead>\n",
       "  <tbody>\n",
       "    <tr>\n",
       "      <th>0</th>\n",
       "      <td>LD</td>\n",
       "      <td>Control</td>\n",
       "      <td>False</td>\n",
       "    </tr>\n",
       "    <tr>\n",
       "      <th>1</th>\n",
       "      <td>LD</td>\n",
       "      <td>Control</td>\n",
       "      <td>False</td>\n",
       "    </tr>\n",
       "    <tr>\n",
       "      <th>2</th>\n",
       "      <td>LD</td>\n",
       "      <td>Control</td>\n",
       "      <td>False</td>\n",
       "    </tr>\n",
       "    <tr>\n",
       "      <th>3</th>\n",
       "      <td>LD</td>\n",
       "      <td>Control</td>\n",
       "      <td>False</td>\n",
       "    </tr>\n",
       "    <tr>\n",
       "      <th>4</th>\n",
       "      <td>LD</td>\n",
       "      <td>Control</td>\n",
       "      <td>False</td>\n",
       "    </tr>\n",
       "  </tbody>\n",
       "</table>\n",
       "</div>"
      ],
      "text/plain": [
       "  Dose    Group   Case\n",
       "0   LD  Control  False\n",
       "1   LD  Control  False\n",
       "2   LD  Control  False\n",
       "3   LD  Control  False\n",
       "4   LD  Control  False"
      ]
     },
     "execution_count": 15,
     "metadata": {},
     "output_type": "execute_result"
    }
   ],
   "source": [
    "repeat_nos = np.repeat([0], len(to_repeat))\n",
    "case_per_cell = np.array(ox_vax['Cases'])\n",
    "false_repeat = n_per_cell- case_per_cell\n",
    "repeat_nos[::2]= false_repeat\n",
    "repeat_nos[1::2] = case_per_cell\n",
    "person_df['Case'] = np.repeat(to_repeat, repeat_nos)\n",
    "person_df.head()"
   ]
  },
  {
   "cell_type": "code",
   "execution_count": 16,
   "metadata": {},
   "outputs": [
    {
     "data": {
      "text/html": [
       "<div>\n",
       "<style scoped>\n",
       "    .dataframe tbody tr th:only-of-type {\n",
       "        vertical-align: middle;\n",
       "    }\n",
       "\n",
       "    .dataframe tbody tr th {\n",
       "        vertical-align: top;\n",
       "    }\n",
       "\n",
       "    .dataframe thead th {\n",
       "        text-align: right;\n",
       "    }\n",
       "</style>\n",
       "<table border=\"1\" class=\"dataframe\">\n",
       "  <thead>\n",
       "    <tr style=\"text-align: right;\">\n",
       "      <th></th>\n",
       "      <th>Dose</th>\n",
       "      <th>Group</th>\n",
       "      <th>N</th>\n",
       "      <th>Cases</th>\n",
       "    </tr>\n",
       "  </thead>\n",
       "  <tbody>\n",
       "    <tr>\n",
       "      <th>0</th>\n",
       "      <td>LD</td>\n",
       "      <td>Control</td>\n",
       "      <td>1374</td>\n",
       "      <td>30</td>\n",
       "    </tr>\n",
       "    <tr>\n",
       "      <th>1</th>\n",
       "      <td>LD</td>\n",
       "      <td>Covax</td>\n",
       "      <td>1367</td>\n",
       "      <td>3</td>\n",
       "    </tr>\n",
       "    <tr>\n",
       "      <th>2</th>\n",
       "      <td>SD</td>\n",
       "      <td>Control</td>\n",
       "      <td>2430</td>\n",
       "      <td>38</td>\n",
       "    </tr>\n",
       "    <tr>\n",
       "      <th>3</th>\n",
       "      <td>SD</td>\n",
       "      <td>Covax</td>\n",
       "      <td>2377</td>\n",
       "      <td>15</td>\n",
       "    </tr>\n",
       "  </tbody>\n",
       "</table>\n",
       "</div>"
      ],
      "text/plain": [
       "  Dose    Group     N  Cases\n",
       "0   LD  Control  1374     30\n",
       "1   LD    Covax  1367      3\n",
       "2   SD  Control  2430     38\n",
       "3   SD    Covax  2377     15"
      ]
     },
     "execution_count": 16,
     "metadata": {},
     "output_type": "execute_result"
    }
   ],
   "source": [
    "# Make a thing that knows how to \"group\" the rows \"by\" the pairs of labels in\n",
    "# \"Dose\" and \"Group\".\n",
    "grouped = person_df.groupby(['Dose', 'Group'])\n",
    "# Aggregate within these groups, by\n",
    "# * counting the number of rows\n",
    "# (put this value into the column \"N\")\n",
    "# * counting the number of True values in the \"Case\" column\n",
    "# (put this value into the column \"Cases\")\n",
    "aggregated = grouped.agg(N=('Case', len),Cases=('Case', np.count_nonzero))\n",
    "# Drop the fancy index (row labels) to make an ordinary data frame.\n",
    "tabulated = aggregated.reset_index()\n",
    "tabulated"
   ]
  },
  {
   "cell_type": "code",
   "execution_count": 17,
   "metadata": {},
   "outputs": [
    {
     "data": {
      "text/html": [
       "<div>\n",
       "<style scoped>\n",
       "    .dataframe tbody tr th:only-of-type {\n",
       "        vertical-align: middle;\n",
       "    }\n",
       "\n",
       "    .dataframe tbody tr th {\n",
       "        vertical-align: top;\n",
       "    }\n",
       "\n",
       "    .dataframe thead th {\n",
       "        text-align: right;\n",
       "    }\n",
       "</style>\n",
       "<table border=\"1\" class=\"dataframe\">\n",
       "  <thead>\n",
       "    <tr style=\"text-align: right;\">\n",
       "      <th></th>\n",
       "      <th>Dose</th>\n",
       "      <th>Group</th>\n",
       "      <th>N</th>\n",
       "      <th>Cases</th>\n",
       "    </tr>\n",
       "  </thead>\n",
       "  <tbody>\n",
       "    <tr>\n",
       "      <th>0</th>\n",
       "      <td>LD</td>\n",
       "      <td>Control</td>\n",
       "      <td>1374</td>\n",
       "      <td>30</td>\n",
       "    </tr>\n",
       "    <tr>\n",
       "      <th>1</th>\n",
       "      <td>LD</td>\n",
       "      <td>Covax</td>\n",
       "      <td>1367</td>\n",
       "      <td>3</td>\n",
       "    </tr>\n",
       "    <tr>\n",
       "      <th>2</th>\n",
       "      <td>SD</td>\n",
       "      <td>Control</td>\n",
       "      <td>2430</td>\n",
       "      <td>38</td>\n",
       "    </tr>\n",
       "    <tr>\n",
       "      <th>3</th>\n",
       "      <td>SD</td>\n",
       "      <td>Covax</td>\n",
       "      <td>2377</td>\n",
       "      <td>15</td>\n",
       "    </tr>\n",
       "  </tbody>\n",
       "</table>\n",
       "</div>"
      ],
      "text/plain": [
       "  Dose    Group     N  Cases\n",
       "0   LD  Control  1374     30\n",
       "1   LD    Covax  1367      3\n",
       "2   SD  Control  2430     38\n",
       "3   SD    Covax  2377     15"
      ]
     },
     "execution_count": 17,
     "metadata": {},
     "output_type": "execute_result"
    }
   ],
   "source": [
    "def cases_to_counts(full_df):\n",
    "    grouped = full_df.groupby(['Dose', 'Group'])\n",
    "    return full_df.groupby(['Dose', 'Group']).agg(N=('Case', len),Cases=('Case', np.count_nonzero)).reset_index()\n",
    "cases_to_counts(person_df)"
   ]
  },
  {
   "cell_type": "code",
   "execution_count": 18,
   "metadata": {},
   "outputs": [
    {
     "data": {
      "text/plain": [
       "True"
      ]
     },
     "execution_count": 18,
     "metadata": {},
     "output_type": "execute_result"
    }
   ],
   "source": [
    "cases_to_counts(person_df).equals(ox_vax)"
   ]
  },
  {
   "cell_type": "code",
   "execution_count": 19,
   "metadata": {},
   "outputs": [
    {
     "data": {
      "text/html": [
       "<div>\n",
       "<style scoped>\n",
       "    .dataframe tbody tr th:only-of-type {\n",
       "        vertical-align: middle;\n",
       "    }\n",
       "\n",
       "    .dataframe tbody tr th {\n",
       "        vertical-align: top;\n",
       "    }\n",
       "\n",
       "    .dataframe thead th {\n",
       "        text-align: right;\n",
       "    }\n",
       "</style>\n",
       "<table border=\"1\" class=\"dataframe\">\n",
       "  <thead>\n",
       "    <tr style=\"text-align: right;\">\n",
       "      <th></th>\n",
       "      <th>Dose</th>\n",
       "      <th>Group</th>\n",
       "      <th>Case</th>\n",
       "    </tr>\n",
       "  </thead>\n",
       "  <tbody>\n",
       "    <tr>\n",
       "      <th>0</th>\n",
       "      <td>LD</td>\n",
       "      <td>Control</td>\n",
       "      <td>False</td>\n",
       "    </tr>\n",
       "    <tr>\n",
       "      <th>1</th>\n",
       "      <td>SD</td>\n",
       "      <td>Control</td>\n",
       "      <td>False</td>\n",
       "    </tr>\n",
       "    <tr>\n",
       "      <th>2</th>\n",
       "      <td>LD</td>\n",
       "      <td>Control</td>\n",
       "      <td>False</td>\n",
       "    </tr>\n",
       "    <tr>\n",
       "      <th>3</th>\n",
       "      <td>SD</td>\n",
       "      <td>Control</td>\n",
       "      <td>False</td>\n",
       "    </tr>\n",
       "    <tr>\n",
       "      <th>4</th>\n",
       "      <td>LD</td>\n",
       "      <td>Control</td>\n",
       "      <td>False</td>\n",
       "    </tr>\n",
       "  </tbody>\n",
       "</table>\n",
       "</div>"
      ],
      "text/plain": [
       "  Dose    Group   Case\n",
       "0   LD  Control  False\n",
       "1   SD  Control  False\n",
       "2   LD  Control  False\n",
       "3   SD  Control  False\n",
       "4   LD  Control  False"
      ]
     },
     "execution_count": 19,
     "metadata": {},
     "output_type": "execute_result"
    }
   ],
   "source": [
    "fake_df = person_df.copy()\n",
    "fake_df['Dose'] = np.random.permutation(person_df['Dose'])\n",
    "fake_df.head()"
   ]
  },
  {
   "cell_type": "code",
   "execution_count": 20,
   "metadata": {},
   "outputs": [
    {
     "data": {
      "text/plain": [
       "[0.0007047669370043863,\n",
       " 0.0012776272472035943,\n",
       " -0.0010138139935930157,\n",
       " -0.0027323949241905288,\n",
       " -0.0015866743037922237,\n",
       " 0.0007047669370043863,\n",
       " 0.0012776272472035943,\n",
       " -0.0010138139935930157,\n",
       " -0.0027323949241905288,\n",
       " 0.0007047669370043863]"
      ]
     },
     "execution_count": 20,
     "metadata": {},
     "output_type": "execute_result"
    }
   ],
   "source": [
    "n_iters = 1000\n",
    "fake_ediffs=[]\n",
    "for i in range(n_iters):\n",
    "    fake_df['Dose'] = np.random.permutation(person_df['Dose'])\n",
    "    fake_orignal = cases_to_counts(fake_df)\n",
    "    fake_ediffz = calc_ld_sd_ediff(fake_orignal)\n",
    "    fake_ediffs.append(fake_ediffz)\n",
    "# Show the first 10 efficiency differences.\n",
    "fake_ediffs[:10]"
   ]
  },
  {
   "cell_type": "code",
   "execution_count": 21,
   "metadata": {},
   "outputs": [
    {
     "data": {
      "text/plain": [
       "(array([ 53., 412., 481.,  54.]),\n",
       " array([-0.00788814, -0.00402133, -0.00015452,  0.00371228,  0.00757909]),\n",
       " <BarContainer object of 4 artists>)"
      ]
     },
     "execution_count": 21,
     "metadata": {},
     "output_type": "execute_result"
    },
    {
     "data": {
      "image/png": "[encoded data removed]",
      "text/plain": [
       "<Figure size 432x288 with 1 Axes>"
      ]
     },
     "metadata": {
      "needs_background": "light"
     },
     "output_type": "display_data"
    }
   ],
   "source": [
    "plt.hist(fake_ediffs,bins=4)"
   ]
  },
  {
   "cell_type": "code",
   "execution_count": 22,
   "metadata": {},
   "outputs": [
    {
     "data": {
      "text/plain": [
       "1.0"
      ]
     },
     "execution_count": 22,
     "metadata": {},
     "output_type": "execute_result"
    }
   ],
   "source": [
    "count = 0\n",
    "for i in range(len(fake_ediffs)):\n",
    "    if i >= -0.0010138139935930157:\n",
    "        count += 1\n",
    "prop_ediff_ge = (len(fake_ediffs)/ count)\n",
    "# Show the result\n",
    "prop_ediff_ge"
   ]
  }
 ],
 "metadata": {
  "interpreter": {
   "hash": "09fbbc6180af3f0333ae3a77ee1bc156f4ead94d30bd9e28db7dceb85622d0e7"
  },
  "kernelspec": {
   "display_name": "Python 3.9.2 64-bit",
   "language": "python",
   "name": "python3"
  },
  "language_info": {
   "codemirror_mode": {
    "name": "ipython",
    "version": 3
   },
   "file_extension": ".py",
   "mimetype": "text/x-python",
   "name": "python",
   "nbconvert_exporter": "python",
   "pygments_lexer": "ipython3",
   "version": "3.9.2"
  },
  "orig_nbformat": 4
 },
 "nbformat": 4,
 "nbformat_minor": 2
}
