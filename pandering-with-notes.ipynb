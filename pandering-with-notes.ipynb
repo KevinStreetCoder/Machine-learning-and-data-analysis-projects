{
 "cells": [
  {
   "cell_type": "markdown",
   "metadata": {
    "cell_id": "00000-f6cb34dc-bf16-449b-a6a2-dd39aba91858",
    "deepnote_app_coordinates": {
     "h": 5,
     "w": 12,
     "x": 0,
     "y": 0
    },
    "deepnote_cell_type": "markdown"
   },
   "source": [
    "# Walking the Pandas walk\n"
   ]
  },
  {
   "cell_type": "markdown",
   "metadata": {
    "cell_id": "00001-97f328bc-a125-4bff-a1d7-39703db8b03f",
    "deepnote_app_coordinates": {
     "h": 5,
     "w": 12,
     "x": 0,
     "y": 6
    },
    "deepnote_cell_type": "markdown"
   },
   "source": [
    "## Preliminaries"
   ]
  },
  {
   "cell_type": "markdown",
   "metadata": {
    "cell_id": "00002-93ea59e6-6082-4925-82cc-ba8165739de4",
    "deepnote_app_coordinates": {
     "h": 5,
     "w": 12,
     "x": 0,
     "y": 12
    },
    "deepnote_cell_type": "markdown"
   },
   "source": [
    "Before you begin, execute the following cell to load the provided tests. Each\n",
    "time you start your notebook, you will need to execute this cell again to load\n",
    "the tests."
   ]
  },
  {
   "cell_type": "code",
   "execution_count": 35,
   "metadata": {
    "cell_id": "00003-6da2c4b0-5d8b-4125-94bc-6f57464a311f",
    "deepnote_app_coordinates": {
     "h": 5,
     "w": 12,
     "x": 0,
     "y": 18
    },
    "deepnote_cell_type": "code",
    "deepnote_to_be_reexecuted": false,
    "execution_millis": 1686,
    "execution_start": 1642216168599,
    "source_hash": "12f55f77"
   },
   "outputs": [],
   "source": [
    "# Don't change this cell; just run it.\n",
    "\n",
    "import numpy as np\n",
    "import pandas as pd\n",
    "# Safe settings for Pandas.\n",
    "pd.set_option('mode.chained_assignment', 'raise')\n",
    "\n",
    "%matplotlib inline\n",
    "import matplotlib.pyplot as plt\n",
    "plt.style.use('fivethirtyeight')\n",
    "\n",
    "from client.api.notebook import Notebook\n",
    "ok = Notebook('pandering.ok')"
   ]
  },
  {
   "cell_type": "markdown",
   "metadata": {
    "cell_id": "00004-57701f67-faa8-49f4-85e3-573942da20a5",
    "deepnote_app_coordinates": {
     "h": 5,
     "w": 12,
     "x": 0,
     "y": 24
    },
    "deepnote_cell_type": "markdown"
   },
   "source": [
    "**Important**: The `ok` tests don't usually tell you that your answer is\n",
    "correct. More often, they help catch careless mistakes. It's up to you to\n",
    "ensure that your answer is correct. If you're not sure, ask someone (not for\n",
    "the answer, but for some guidance about your approach).\n"
   ]
  },
  {
   "cell_type": "markdown",
   "metadata": {
    "cell_id": "00005-ba626230-40a9-4903-acf2-9ef7cb8877a1",
    "deepnote_app_coordinates": {
     "h": 5,
     "w": 12,
     "x": 0,
     "y": 30
    },
    "deepnote_cell_type": "markdown"
   },
   "source": [
    "## Unemployment"
   ]
  },
  {
   "cell_type": "markdown",
   "metadata": {
    "cell_id": "00006-e1e046e7-51ce-496f-af4a-768496500d7c",
    "deepnote_app_coordinates": {
     "h": 5,
     "w": 12,
     "x": 0,
     "y": 36
    },
    "deepnote_cell_type": "markdown"
   },
   "source": [
    "The Federal Reserve Bank of St. Louis publishes data about jobs in the US.\n",
    "Below we've loaded data on unemployment in the United States.  There are many\n",
    "ways of defining unemployment, and our dataset includes two notions of the\n",
    "unemployment rate:\n",
    "\n",
    "1. Among people who are able to work and are looking for a full-time job, the\n",
    "   percentage who can't find a job.  This is called the Non-Employment Index,\n",
    "   or NEI.\n",
    "2. Among people who are able to work and are looking for a full-time job, the\n",
    "   percentage who can't find any job *or* are only working at a part-time job.\n",
    "   The latter group is called \"Part-Time for Economic Reasons\", so the acronym\n",
    "   for this index is NEI-PTER.  (Economists are great at marketing.)\n",
    "\n",
    "The source of the data is [here](https://fred.stlouisfed.org/categories/33509)."
   ]
  },
  {
   "cell_type": "markdown",
   "metadata": {
    "cell_id": "00007-6e3933cb-fc7f-40b4-92a7-54e705db6116",
    "deepnote_app_coordinates": {
     "h": 5,
     "w": 12,
     "x": 0,
     "y": 42
    },
    "deepnote_cell_type": "markdown"
   },
   "source": [
    "**Question 1.** The data are in a CSV file called `unemployment.csv`.  Load\n",
    "that file into a table called `unemployment`."
   ]
  },
  {
   "cell_type": "code",
   "execution_count": 6,
   "metadata": {
    "cell_id": "00008-f67d9fd0-d320-4e40-a15e-449f01eda52e",
    "deepnote_app_coordinates": {
     "h": 5,
     "w": 12,
     "x": 0,
     "y": 48
    },
    "deepnote_cell_type": "code",
    "deepnote_output_heights": [
     382
    ],
    "deepnote_to_be_reexecuted": false,
    "execution_millis": 19,
    "execution_start": 1642216175291,
    "source_hash": "d8966320"
   },
   "outputs": [],
   "source": [
    "unemployment = pd.read_csv(\"unemployment.csv\")"
   ]
  },
  {
   "cell_type": "code",
   "execution_count": 7,
   "metadata": {
    "cell_id": "00009-600da029-89fc-4ac6-9a69-fbf32fc7a5d5",
    "deepnote_app_coordinates": {
     "h": 5,
     "w": 12,
     "x": 0,
     "y": 54
    },
    "deepnote_cell_type": "code",
    "deepnote_to_be_reexecuted": false,
    "execution_millis": 195,
    "execution_start": 1642054776546,
    "source_hash": "70070de6"
   },
   "outputs": [],
   "source": [
    "# _ = ok.grade('q1_1')"
   ]
  },
  {
   "cell_type": "markdown",
   "metadata": {
    "cell_id": "00010-2c75613d-4ece-4cd8-be88-1a42aa0366aa",
    "deepnote_app_coordinates": {
     "h": 5,
     "w": 12,
     "x": 0,
     "y": 60
    },
    "deepnote_cell_type": "markdown"
   },
   "source": [
    "**Question 2.** Sort the data in *decreasing* order by NEI, naming the sorted\n",
    "table `by_nei`.  Create another table called `by_nei_pter` that's sorted in\n",
    "decreasing order by NEI-PTER instead."
   ]
  },
  {
   "cell_type": "code",
   "execution_count": 8,
   "metadata": {
    "cell_id": "00011-d0d0a864-ee4d-4878-bbb3-eadeb487cba6",
    "deepnote_app_coordinates": {
     "h": 5,
     "w": 12,
     "x": 0,
     "y": 66
    },
    "deepnote_cell_type": "code",
    "deepnote_to_be_reexecuted": false,
    "execution_millis": 0,
    "execution_start": 1642216247360,
    "source_hash": "a86e474c"
   },
   "outputs": [],
   "source": [
    "by_nei = unemployment.sort_values(\"NEI\", ascending = False)\n",
    "by_nei_pter = unemployment.sort_values(\"NEI-PTER\", ascending = False)"
   ]
  },
  {
   "cell_type": "code",
   "execution_count": 9,
   "metadata": {
    "cell_id": "00012-900b22ec-3978-4b7f-bd81-85893334e8c3",
    "deepnote_app_coordinates": {
     "h": 5,
     "w": 12,
     "x": 0,
     "y": 72
    },
    "deepnote_cell_type": "code",
    "deepnote_to_be_reexecuted": false,
    "execution_millis": 282,
    "execution_start": 1642049558396,
    "source_hash": "ca3fb4e"
   },
   "outputs": [],
   "source": [
    "# _ = ok.grade('q1_2')"
   ]
  },
  {
   "cell_type": "markdown",
   "metadata": {
    "cell_id": "00013-800d90f0-36c5-44d3-b4e5-b894439af7f7",
    "deepnote_app_coordinates": {
     "h": 5,
     "w": 12,
     "x": 0,
     "y": 78
    },
    "deepnote_cell_type": "markdown"
   },
   "source": [
    "**Question 3.** Make a table containing the data for the 10 quarters when NEI was greatest.  Call that table `greatest_nei`."
   ]
  },
  {
   "cell_type": "code",
   "execution_count": 10,
   "metadata": {
    "cell_id": "00014-88d0ef6f-fe68-47d8-a5e4-a8002ad22830",
    "deepnote_app_coordinates": {
     "h": 5,
     "w": 12,
     "x": 0,
     "y": 84
    },
    "deepnote_cell_type": "code",
    "deepnote_output_heights": [
     322
    ],
    "deepnote_to_be_reexecuted": false,
    "execution_millis": 11,
    "execution_start": 1642216251523,
    "source_hash": "6ee43809"
   },
   "outputs": [
    {
     "data": {
      "text/html": [
       "<div>\n",
       "<style scoped>\n",
       "    .dataframe tbody tr th:only-of-type {\n",
       "        vertical-align: middle;\n",
       "    }\n",
       "\n",
       "    .dataframe tbody tr th {\n",
       "        vertical-align: top;\n",
       "    }\n",
       "\n",
       "    .dataframe thead th {\n",
       "        text-align: right;\n",
       "    }\n",
       "</style>\n",
       "<table border=\"1\" class=\"dataframe\">\n",
       "  <thead>\n",
       "    <tr style=\"text-align: right;\">\n",
       "      <th></th>\n",
       "      <th>Date</th>\n",
       "      <th>NEI</th>\n",
       "      <th>NEI-PTER</th>\n",
       "    </tr>\n",
       "  </thead>\n",
       "  <tbody>\n",
       "    <tr>\n",
       "      <th>63</th>\n",
       "      <td>2009-10-01</td>\n",
       "      <td>10.9698</td>\n",
       "      <td>12.8557</td>\n",
       "    </tr>\n",
       "    <tr>\n",
       "      <th>64</th>\n",
       "      <td>2010-01-01</td>\n",
       "      <td>10.9054</td>\n",
       "      <td>12.7311</td>\n",
       "    </tr>\n",
       "    <tr>\n",
       "      <th>62</th>\n",
       "      <td>2009-07-01</td>\n",
       "      <td>10.8089</td>\n",
       "      <td>12.7404</td>\n",
       "    </tr>\n",
       "    <tr>\n",
       "      <th>61</th>\n",
       "      <td>2009-04-01</td>\n",
       "      <td>10.7082</td>\n",
       "      <td>12.5497</td>\n",
       "    </tr>\n",
       "    <tr>\n",
       "      <th>65</th>\n",
       "      <td>2010-04-01</td>\n",
       "      <td>10.6597</td>\n",
       "      <td>12.5664</td>\n",
       "    </tr>\n",
       "    <tr>\n",
       "      <th>67</th>\n",
       "      <td>2010-10-01</td>\n",
       "      <td>10.5856</td>\n",
       "      <td>12.4329</td>\n",
       "    </tr>\n",
       "    <tr>\n",
       "      <th>66</th>\n",
       "      <td>2010-07-01</td>\n",
       "      <td>10.5521</td>\n",
       "      <td>12.3897</td>\n",
       "    </tr>\n",
       "    <tr>\n",
       "      <th>68</th>\n",
       "      <td>2011-01-01</td>\n",
       "      <td>10.5024</td>\n",
       "      <td>12.3017</td>\n",
       "    </tr>\n",
       "    <tr>\n",
       "      <th>70</th>\n",
       "      <td>2011-07-01</td>\n",
       "      <td>10.4856</td>\n",
       "      <td>12.2507</td>\n",
       "    </tr>\n",
       "    <tr>\n",
       "      <th>69</th>\n",
       "      <td>2011-04-01</td>\n",
       "      <td>10.4409</td>\n",
       "      <td>12.2470</td>\n",
       "    </tr>\n",
       "  </tbody>\n",
       "</table>\n",
       "</div>"
      ],
      "text/plain": [
       "          Date      NEI  NEI-PTER\n",
       "63  2009-10-01  10.9698   12.8557\n",
       "64  2010-01-01  10.9054   12.7311\n",
       "62  2009-07-01  10.8089   12.7404\n",
       "61  2009-04-01  10.7082   12.5497\n",
       "65  2010-04-01  10.6597   12.5664\n",
       "67  2010-10-01  10.5856   12.4329\n",
       "66  2010-07-01  10.5521   12.3897\n",
       "68  2011-01-01  10.5024   12.3017\n",
       "70  2011-07-01  10.4856   12.2507\n",
       "69  2011-04-01  10.4409   12.2470"
      ]
     },
     "execution_count": 10,
     "metadata": {},
     "output_type": "execute_result"
    }
   ],
   "source": [
    "greatest_nei = by_nei.head(10)\n",
    "greatest_nei"
   ]
  },
  {
   "cell_type": "code",
   "execution_count": 11,
   "metadata": {
    "cell_id": "00015-19073b91-cb1d-4076-8050-124e9b621153",
    "deepnote_app_coordinates": {
     "h": 5,
     "w": 12,
     "x": 0,
     "y": 90
    },
    "deepnote_cell_type": "code",
    "deepnote_to_be_reexecuted": false,
    "execution_millis": 111,
    "execution_start": 1642049574177,
    "source_hash": "6b1fbd26"
   },
   "outputs": [],
   "source": [
    "# _ = ok.grade('q1_3')"
   ]
  },
  {
   "cell_type": "markdown",
   "metadata": {
    "cell_id": "00016-793e772a-dd37-4184-a977-3c19feafb86b",
    "deepnote_app_coordinates": {
     "h": 5,
     "w": 12,
     "x": 0,
     "y": 96
    },
    "deepnote_cell_type": "markdown"
   },
   "source": [
    "**Question 4.** It's believed that many people became PTER (recall: \"Part-Time\n",
    "for Economic Reasons\") in the \"Great Recession\" of 2008-2009.  NEI-PTER is the\n",
    "percentage of people who are unemployed (and counted in the NEI) plus the\n",
    "percentage of people who are PTER.  Compute a Series containing the percentage\n",
    "of people who were PTER in each quarter.  (The first element of the Series\n",
    "should correspond to the first row of `unemployment`, and so on.)\n",
    "\n",
    "*Note:* Use the original `unemployment` table for this."
   ]
  },
  {
   "cell_type": "code",
   "execution_count": 12,
   "metadata": {
    "cell_id": "00017-4b6b4343-53b7-411c-bc10-c1c58c8af1cb",
    "deepnote_app_coordinates": {
     "h": 5,
     "w": 12,
     "x": 0,
     "y": 102
    },
    "deepnote_cell_type": "code",
    "deepnote_output_heights": [
     116
    ],
    "deepnote_to_be_reexecuted": false,
    "execution_millis": 151,
    "execution_start": 1642049579782,
    "source_hash": "5e41939"
   },
   "outputs": [
    {
     "data": {
      "text/plain": [
       "0    1.0746\n",
       "1    1.1644\n",
       "2    1.1555\n",
       "3    1.1290\n",
       "4    1.2139\n",
       "dtype: float64"
      ]
     },
     "execution_count": 12,
     "metadata": {},
     "output_type": "execute_result"
    }
   ],
   "source": [
    "pter = pd.DataFrame()\n",
    "pter = unemployment[\"NEI-PTER\"] - unemployment[\"NEI\"]\n",
    "# Show the first five values.\n",
    "pter.head()"
   ]
  },
  {
   "cell_type": "code",
   "execution_count": 13,
   "metadata": {
    "cell_id": "00018-27f41eed-cae6-422a-ad11-3a6d6eea2bf2",
    "deepnote_app_coordinates": {
     "h": 5,
     "w": 12,
     "x": 0,
     "y": 108
    },
    "deepnote_cell_type": "code",
    "deepnote_to_be_reexecuted": false,
    "execution_millis": 68,
    "execution_start": 1642049585969,
    "source_hash": "dca34f99"
   },
   "outputs": [],
   "source": [
    "# _ = ok.grade('q1_4')"
   ]
  },
  {
   "cell_type": "markdown",
   "metadata": {
    "cell_id": "00019-c53033f1-8aee-415b-907b-4f6bf6569836",
    "deepnote_app_coordinates": {
     "h": 5,
     "w": 12,
     "x": 0,
     "y": 114
    },
    "deepnote_cell_type": "markdown"
   },
   "source": [
    "**Question 5.** Add `pter` as a column named \"PTER\" to `unemployment` and sort\n",
    "the resulting table by that column in decreasing order.  Call the table\n",
    "`by_pter`."
   ]
  },
  {
   "cell_type": "code",
   "execution_count": 14,
   "metadata": {
    "cell_id": "00020-e67e0103-5e14-46e9-94d1-0382c8f99d78",
    "deepnote_app_coordinates": {
     "h": 5,
     "w": 12,
     "x": 0,
     "y": 120
    },
    "deepnote_cell_type": "code",
    "deepnote_output_heights": [
     177
    ],
    "deepnote_to_be_reexecuted": false,
    "execution_millis": 25,
    "execution_start": 1642049588975,
    "source_hash": "659f7f6f"
   },
   "outputs": [
    {
     "data": {
      "text/html": [
       "<div>\n",
       "<style scoped>\n",
       "    .dataframe tbody tr th:only-of-type {\n",
       "        vertical-align: middle;\n",
       "    }\n",
       "\n",
       "    .dataframe tbody tr th {\n",
       "        vertical-align: top;\n",
       "    }\n",
       "\n",
       "    .dataframe thead th {\n",
       "        text-align: right;\n",
       "    }\n",
       "</style>\n",
       "<table border=\"1\" class=\"dataframe\">\n",
       "  <thead>\n",
       "    <tr style=\"text-align: right;\">\n",
       "      <th></th>\n",
       "      <th>Date</th>\n",
       "      <th>NEI</th>\n",
       "      <th>NEI-PTER</th>\n",
       "      <th>PTER</th>\n",
       "    </tr>\n",
       "  </thead>\n",
       "  <tbody>\n",
       "    <tr>\n",
       "      <th>62</th>\n",
       "      <td>2009-07-01</td>\n",
       "      <td>10.8089</td>\n",
       "      <td>12.7404</td>\n",
       "      <td>1.9315</td>\n",
       "    </tr>\n",
       "    <tr>\n",
       "      <th>65</th>\n",
       "      <td>2010-04-01</td>\n",
       "      <td>10.6597</td>\n",
       "      <td>12.5664</td>\n",
       "      <td>1.9067</td>\n",
       "    </tr>\n",
       "    <tr>\n",
       "      <th>63</th>\n",
       "      <td>2009-10-01</td>\n",
       "      <td>10.9698</td>\n",
       "      <td>12.8557</td>\n",
       "      <td>1.8859</td>\n",
       "    </tr>\n",
       "    <tr>\n",
       "      <th>67</th>\n",
       "      <td>2010-10-01</td>\n",
       "      <td>10.5856</td>\n",
       "      <td>12.4329</td>\n",
       "      <td>1.8473</td>\n",
       "    </tr>\n",
       "    <tr>\n",
       "      <th>61</th>\n",
       "      <td>2009-04-01</td>\n",
       "      <td>10.7082</td>\n",
       "      <td>12.5497</td>\n",
       "      <td>1.8415</td>\n",
       "    </tr>\n",
       "  </tbody>\n",
       "</table>\n",
       "</div>"
      ],
      "text/plain": [
       "          Date      NEI  NEI-PTER    PTER\n",
       "62  2009-07-01  10.8089   12.7404  1.9315\n",
       "65  2010-04-01  10.6597   12.5664  1.9067\n",
       "63  2009-10-01  10.9698   12.8557  1.8859\n",
       "67  2010-10-01  10.5856   12.4329  1.8473\n",
       "61  2009-04-01  10.7082   12.5497  1.8415"
      ]
     },
     "execution_count": 14,
     "metadata": {},
     "output_type": "execute_result"
    }
   ],
   "source": [
    "unemployment[\"PTER\"] = pter\n",
    "by_pter = unemployment.sort_values(\"PTER\", ascending = False)\n",
    "# Show the first five values.\n",
    "by_pter.head()"
   ]
  },
  {
   "cell_type": "code",
   "execution_count": 15,
   "metadata": {
    "cell_id": "00021-a5074d76-7635-41af-bdf5-cd2ffcb2272a",
    "deepnote_app_coordinates": {
     "h": 5,
     "w": 12,
     "x": 0,
     "y": 126
    },
    "deepnote_cell_type": "code",
    "deepnote_to_be_reexecuted": false,
    "execution_millis": 362,
    "execution_start": 1642049596381,
    "source_hash": "800d5e29"
   },
   "outputs": [],
   "source": [
    "# _ = ok.grade('q1_5')"
   ]
  },
  {
   "cell_type": "markdown",
   "metadata": {
    "cell_id": "00022-a217fae3-ef49-4f2a-877a-e7db0401d749",
    "deepnote_app_coordinates": {
     "h": 5,
     "w": 12,
     "x": 0,
     "y": 132
    },
    "deepnote_cell_type": "markdown"
   },
   "source": [
    "**Question 6.** Does it seem true that the PTER rate was very high during the\n",
    "Great Recession, compared to other periods in the dataset?  Explore the values\n",
    "in the table, and consider doing some plots.  Justify your answer by referring\n",
    "to specific values in the table or by generating a chart.\n",
    "Answer. There is an increase in the PTER rate according to the plot below\n"
   ]
  },
  {
   "cell_type": "code",
   "execution_count": 21,
   "metadata": {
    "cell_id": "00023-9d72e2ff-349c-4faf-a269-4f496ed8fbe3",
    "deepnote_app_coordinates": {
     "h": 5,
     "w": 12,
     "x": 0,
     "y": 138
    },
    "deepnote_cell_type": "code",
    "deepnote_output_heights": [
     21,
     289
    ],
    "deepnote_to_be_reexecuted": false,
    "execution_millis": 2,
    "execution_start": 1642216269342,
    "source_hash": "959dc4bc",
    "tags": []
   },
   "outputs": [
    {
     "data": {
      "text/plain": [
       "[<matplotlib.lines.Line2D at 0x24e536b3e50>]"
      ]
     },
     "execution_count": 21,
     "metadata": {},
     "output_type": "execute_result"
    },
    {
     "data": {
      "image/png": "[encoded data removed]",
      "text/plain": [
       "<Figure size 432x288 with 1 Axes>"
      ]
     },
     "metadata": {},
     "output_type": "display_data"
    }
   ],
   "source": [
    "cols = unemployment.columns\n",
    "figure, ax1 = plt.subplots()\n",
    "ax1.plot(unemployment[cols[0]],unemployment[cols[2]],linewidth=0.8,zorder=2, label = \"PTER rate\")\n"
   ]
  },
  {
   "cell_type": "markdown",
   "metadata": {
    "cell_id": "00023-8a5d0a76-209d-47cb-9194-c0a44a707d65",
    "deepnote_app_coordinates": {
     "h": 5,
     "w": 12,
     "x": 0,
     "y": 144
    },
    "deepnote_cell_type": "markdown",
    "lines_to_next_cell": 2,
    "manual_grade": true,
    "manual_problem_id": "basic_sorting_6"
   },
   "source": [
    "By computing the mean average of every quarter from 2005 to 2007 and doing the same for 2008 to 2010, the result clearly shows that average PTER has substantially increased between the two periods. In fact, it increased by over 40%. Moreover, the line plot clearly indicates a substantial increase of PTER in the time period of the Great Recession. Thus, based on the data and calculations provided, it does seem true that PTER was very high during the Great Recession, and according to the plot the highest PTER value across all data points was recorded in 2009, which was during the Great Recession."
   ]
  },
  {
   "cell_type": "markdown",
   "metadata": {
    "cell_id": "00024-95bd3917-57bc-46b4-87ef-b1e3a2c6cd0c",
    "deepnote_app_coordinates": {
     "h": 5,
     "w": 12,
     "x": 0,
     "y": 150
    },
    "deepnote_cell_type": "markdown"
   },
   "source": [
    "## 2. Birth Rates"
   ]
  },
  {
   "cell_type": "markdown",
   "metadata": {
    "cell_id": "00025-53239bc9-e75b-49f6-8599-9885c637bb53",
    "deepnote_app_coordinates": {
     "h": 5,
     "w": 12,
     "x": 0,
     "y": 156
    },
    "deepnote_cell_type": "markdown"
   },
   "source": [
    "The following table gives census-based population estimates for each state in\n",
    "the USA, on July 1, 2015 and July 1, 2016. The last four columns describe the\n",
    "components of the estimated change in population during this time interval.\n",
    "*For all questions below, assume that the word \"states\" refers to all 52 rows\n",
    "including Puerto Rico & the District of Columbia.*"
   ]
  },
  {
   "cell_type": "code",
   "execution_count": 25,
   "metadata": {
    "cell_id": "00026-7da7071f-9190-4d07-97ed-3aa0ee229c89",
    "deepnote_app_coordinates": {
     "h": 5,
     "w": 12,
     "x": 0,
     "y": 162
    },
    "deepnote_cell_type": "code",
    "deepnote_output_heights": [
     177
    ],
    "deepnote_to_be_reexecuted": false,
    "execution_millis": 2,
    "execution_start": 1642216274615,
    "source_hash": "c5e05310"
   },
   "outputs": [
    {
     "data": {
      "text/html": [
       "<div>\n",
       "<style scoped>\n",
       "    .dataframe tbody tr th:only-of-type {\n",
       "        vertical-align: middle;\n",
       "    }\n",
       "\n",
       "    .dataframe tbody tr th {\n",
       "        vertical-align: top;\n",
       "    }\n",
       "\n",
       "    .dataframe thead th {\n",
       "        text-align: right;\n",
       "    }\n",
       "</style>\n",
       "<table border=\"1\" class=\"dataframe\">\n",
       "  <thead>\n",
       "    <tr style=\"text-align: right;\">\n",
       "      <th></th>\n",
       "      <th>REGION</th>\n",
       "      <th>NAME</th>\n",
       "      <th>2015</th>\n",
       "      <th>2016</th>\n",
       "      <th>BIRTHS</th>\n",
       "      <th>DEATHS</th>\n",
       "      <th>MIGRATION</th>\n",
       "      <th>OTHER</th>\n",
       "    </tr>\n",
       "  </thead>\n",
       "  <tbody>\n",
       "    <tr>\n",
       "      <th>5</th>\n",
       "      <td>3</td>\n",
       "      <td>Alabama</td>\n",
       "      <td>4853875</td>\n",
       "      <td>4863300</td>\n",
       "      <td>58556</td>\n",
       "      <td>52405</td>\n",
       "      <td>3874</td>\n",
       "      <td>-600</td>\n",
       "    </tr>\n",
       "    <tr>\n",
       "      <th>6</th>\n",
       "      <td>4</td>\n",
       "      <td>Alaska</td>\n",
       "      <td>737709</td>\n",
       "      <td>741894</td>\n",
       "      <td>11255</td>\n",
       "      <td>4511</td>\n",
       "      <td>-2557</td>\n",
       "      <td>-2</td>\n",
       "    </tr>\n",
       "    <tr>\n",
       "      <th>7</th>\n",
       "      <td>4</td>\n",
       "      <td>Arizona</td>\n",
       "      <td>6817565</td>\n",
       "      <td>6931071</td>\n",
       "      <td>87204</td>\n",
       "      <td>56564</td>\n",
       "      <td>76405</td>\n",
       "      <td>6461</td>\n",
       "    </tr>\n",
       "    <tr>\n",
       "      <th>8</th>\n",
       "      <td>3</td>\n",
       "      <td>Arkansas</td>\n",
       "      <td>2977853</td>\n",
       "      <td>2988248</td>\n",
       "      <td>37936</td>\n",
       "      <td>30581</td>\n",
       "      <td>3530</td>\n",
       "      <td>-490</td>\n",
       "    </tr>\n",
       "    <tr>\n",
       "      <th>9</th>\n",
       "      <td>4</td>\n",
       "      <td>California</td>\n",
       "      <td>38993940</td>\n",
       "      <td>39250017</td>\n",
       "      <td>502848</td>\n",
       "      <td>273850</td>\n",
       "      <td>33530</td>\n",
       "      <td>-6451</td>\n",
       "    </tr>\n",
       "  </tbody>\n",
       "</table>\n",
       "</div>"
      ],
      "text/plain": [
       "  REGION        NAME      2015      2016  BIRTHS  DEATHS  MIGRATION  OTHER\n",
       "5      3     Alabama   4853875   4863300   58556   52405       3874   -600\n",
       "6      4      Alaska    737709    741894   11255    4511      -2557     -2\n",
       "7      4     Arizona   6817565   6931071   87204   56564      76405   6461\n",
       "8      3    Arkansas   2977853   2988248   37936   30581       3530   -490\n",
       "9      4  California  38993940  39250017  502848  273850      33530  -6451"
      ]
     },
     "execution_count": 25,
     "metadata": {},
     "output_type": "execute_result"
    }
   ],
   "source": [
    "# Don't change this cell; just run it.\n",
    "# From http://www2.census.gov/programs-surveys/popest/datasets/2010-2016/national/totals/nst-est2016-alldata.csv\n",
    "# See https://www2.census.gov/programs-surveys/popest/datasets/2010-2016/national/totals/nst-est2016-alldata.pdf\n",
    "#     for column descriptions.\n",
    "# Read the table\n",
    "raw_pop = pd.read_csv('nst-est2016-alldata.csv')\n",
    "# Select rows giving summaries at US state level (summary level).\n",
    "pop = raw_pop[raw_pop['SUMLEV'] == 40]\n",
    "# Select only the columns we're interested in\n",
    "good_cols = ['REGION', 'NAME', 'POPESTIMATE2015', 'POPESTIMATE2016',\n",
    "             'BIRTHS2016', 'DEATHS2016', 'NETMIG2016', 'RESIDUAL2016']\n",
    "pop = pop.loc[:, good_cols]\n",
    "# Give the columns new names\n",
    "good_names = ['REGION', 'NAME', '2015', '2016',\n",
    "             'BIRTHS', 'DEATHS', 'MIGRATION', 'OTHER']\n",
    "pop.columns = good_names\n",
    "# Show the first five rows.\n",
    "pop.head()"
   ]
  },
  {
   "cell_type": "markdown",
   "metadata": {
    "cell_id": "00027-24372642-97a9-4220-ab94-5e86b663e42f",
    "deepnote_app_coordinates": {
     "h": 5,
     "w": 12,
     "x": 0,
     "y": 168
    },
    "deepnote_cell_type": "markdown"
   },
   "source": [
    "**Question 1.** Assign `us_birth_rate` to the total US annual birth rate during\n",
    "this time interval. The annual birth rate for a year-long period is the number\n",
    "of births in that period as a proportion of the population at the start of the\n",
    "period."
   ]
  },
  {
   "cell_type": "code",
   "execution_count": 26,
   "metadata": {
    "cell_id": "00028-5c719f83-ab66-4a00-a862-2425e079b9d4",
    "deepnote_app_coordinates": {
     "h": 5,
     "w": 12,
     "x": 0,
     "y": 174
    },
    "deepnote_cell_type": "code",
    "deepnote_output_heights": [
     21
    ],
    "deepnote_to_be_reexecuted": false,
    "execution_millis": 7,
    "execution_start": 1642216278549,
    "source_hash": "2bc6479"
   },
   "outputs": [
    {
     "data": {
      "text/plain": [
       "0.012358536498646102"
      ]
     },
     "execution_count": 26,
     "metadata": {},
     "output_type": "execute_result"
    }
   ],
   "source": [
    "us_population = sum(pop[\"2015\"])\n",
    "births = sum(pop[\"BIRTHS\"])\n",
    "us_birth_rate = births/us_population\n",
    "us_birth_rate"
   ]
  },
  {
   "cell_type": "code",
   "execution_count": 27,
   "metadata": {
    "cell_id": "00029-76916859-e892-42bf-8279-6a12f92f1990",
    "deepnote_app_coordinates": {
     "h": 5,
     "w": 12,
     "x": 0,
     "y": 180
    },
    "deepnote_cell_type": "code",
    "deepnote_to_be_reexecuted": false,
    "execution_millis": 55,
    "execution_start": 1642049753852,
    "source_hash": "ecd9ee01"
   },
   "outputs": [
    {
     "ename": "NameError",
     "evalue": "name 'ok' is not defined",
     "output_type": "error",
     "traceback": [
      "\u001b[1;31m---------------------------------------------------------------------------\u001b[0m",
      "\u001b[1;31mNameError\u001b[0m                                 Traceback (most recent call last)",
      "Input \u001b[1;32mIn [27]\u001b[0m, in \u001b[0;36m<module>\u001b[1;34m\u001b[0m\n\u001b[1;32m----> 1\u001b[0m _ \u001b[38;5;241m=\u001b[39m \u001b[43mok\u001b[49m\u001b[38;5;241m.\u001b[39mgrade(\u001b[38;5;124m'\u001b[39m\u001b[38;5;124mq2_1\u001b[39m\u001b[38;5;124m'\u001b[39m)\n",
      "\u001b[1;31mNameError\u001b[0m: name 'ok' is not defined"
     ]
    }
   ],
   "source": [
    "_ = ok.grade('q2_1')"
   ]
  },
  {
   "cell_type": "markdown",
   "metadata": {
    "cell_id": "00030-2f245827-e813-4b70-b9c1-37bc7b1bb5df",
    "deepnote_app_coordinates": {
     "h": 5,
     "w": 12,
     "x": 0,
     "y": 186
    },
    "deepnote_cell_type": "markdown"
   },
   "source": [
    "**Question 2.** Assign `fastest_growth` to a Series of the names of the five\n",
    "US states with the fastest overall population growth rates in *descending order\n",
    "of growth rate*.\n",
    "\n",
    "*Hint 1* - you may well find yourself adding another column to the `pop` data\n",
    "frame.\n",
    "\n",
    "*Hint 2* - remember this is a growth *rate*.  See above."
   ]
  },
  {
   "cell_type": "code",
   "execution_count": 29,
   "metadata": {
    "cell_id": "00031-8f47b74b-d239-48b8-85ad-a29615f3ba99",
    "deepnote_app_coordinates": {
     "h": 5,
     "w": 12,
     "x": 0,
     "y": 192
    },
    "deepnote_cell_type": "code",
    "deepnote_to_be_reexecuted": false,
    "execution_millis": 219,
    "execution_start": 1642216282260,
    "source_hash": "6c2f0d29"
   },
   "outputs": [
    {
     "name": "stderr",
     "output_type": "stream",
     "text": [
      "C:\\Users\\Public\\Documents\\Wondershare\\CreatorTemp\\ipykernel_19880\\2065498042.py:7: DeprecationWarning: The default dtype for empty Series will be 'object' instead of 'float64' in a future version. Specify a dtype explicitly to silence this warning.\n",
      "  fastest_growth = pd.Series()\n"
     ]
    },
    {
     "data": {
      "text/plain": [
       "49          Utah\n",
       "33        Nevada\n",
       "17         Idaho\n",
       "14       Florida\n",
       "52    Washington\n",
       "Name: NAME, dtype: object"
      ]
     },
     "execution_count": 29,
     "metadata": {},
     "output_type": "execute_result"
    }
   ],
   "source": [
    "pop_growth = np.array([]) \n",
    "for i in np.arange(1,53):\n",
    "    diff = (pop[\"2016\"].iloc[i-1] - pop[\"2015\"].iloc[i-1])/pop[\"2016\"].iloc[i-1]\n",
    "    pop_growth = np.append(pop_growth,diff)\n",
    "pop[\"GROWTH RATE\"] = pop_growth\n",
    "growth = pop.sort_values(\"GROWTH RATE\", ascending = False) \n",
    "fastest_growth = pd.Series()\n",
    "fastest_growth = growth[\"NAME\"].head(5)\n",
    "fastest_growth\n"
   ]
  },
  {
   "cell_type": "code",
   "execution_count": null,
   "metadata": {
    "cell_id": "00032-694752a9-a833-45af-b9a5-8177561f0d7a",
    "deepnote_app_coordinates": {
     "h": 5,
     "w": 12,
     "x": 0,
     "y": 198
    },
    "deepnote_cell_type": "code",
    "deepnote_to_be_reexecuted": true,
    "source_hash": "9ca3fb14"
   },
   "outputs": [],
   "source": [
    "_ = ok.grade('q2_2')"
   ]
  },
  {
   "cell_type": "markdown",
   "metadata": {
    "cell_id": "00033-0252d125-42ea-40a5-9214-c5eb5cecdefa",
    "deepnote_app_coordinates": {
     "h": 5,
     "w": 12,
     "x": 0,
     "y": 204
    },
    "deepnote_cell_type": "markdown"
   },
   "source": [
    "**Question 3.** Assign `n_movers` to the *number* of states for which the\n",
    "absolute annual *rate* of migration was higher than 1%. The annual rate of\n",
    "migration for a year-long period is the net number of migrations (in and out)\n",
    "as a proportion of the population at the start of the period. The `MIGRATION`\n",
    "column contains estimated annual net migration counts by state."
   ]
  },
  {
   "cell_type": "code",
   "execution_count": 30,
   "metadata": {
    "cell_id": "00034-e3a15b9f-8b46-4440-8ba2-fc81e8401bca",
    "deepnote_app_coordinates": {
     "h": 5,
     "w": 12,
     "x": 0,
     "y": 210
    },
    "deepnote_cell_type": "code",
    "deepnote_output_heights": [
     21
    ],
    "deepnote_to_be_reexecuted": false,
    "execution_millis": 1,
    "execution_start": 1642216299301,
    "source_hash": "ddbdc3e0"
   },
   "outputs": [
    {
     "data": {
      "text/plain": [
       "8"
      ]
     },
     "execution_count": 30,
     "metadata": {},
     "output_type": "execute_result"
    }
   ],
   "source": [
    "annual_rate_migration=[]\n",
    "counter=0\n",
    "for i in np.arange(1,53):\n",
    "  annual_rate_migrations = (pop[\"MIGRATION\"].iloc[i-1] / pop[\"2015\"].iloc[i-1])*100\n",
    "  annual_rate_migration.append(annual_rate_migrations)\n",
    "for i in range(len(annual_rate_migration)):\n",
    "  if annual_rate_migration[i] > 1:\n",
    "    counter +=1\n",
    "n_movers = counter\n",
    "n_movers"
   ]
  },
  {
   "cell_type": "code",
   "execution_count": null,
   "metadata": {
    "cell_id": "00035-0bf1a708-c273-4d8e-b0e9-298d8182af8d",
    "deepnote_app_coordinates": {
     "h": 5,
     "w": 12,
     "x": 0,
     "y": 216
    },
    "deepnote_cell_type": "code",
    "deepnote_to_be_reexecuted": true,
    "source_hash": "aa6c3f8"
   },
   "outputs": [],
   "source": [
    "_ = ok.grade('q2_3')"
   ]
  },
  {
   "cell_type": "markdown",
   "metadata": {
    "cell_id": "00036-565a9bb3-4819-47a2-921a-8fe92fc08e5c",
    "deepnote_app_coordinates": {
     "h": 5,
     "w": 12,
     "x": 0,
     "y": 222
    },
    "deepnote_cell_type": "markdown"
   },
   "source": [
    "**Question 4.** Assign `n_west_births` to the total *number* of births that\n",
    "occurred in region 4 (the Western US).\n",
    "\n",
    "*Hint* - be careful - what type of values does the `REGION` column contain?\n",
    "Look at the `REGION` value for Puerto Rico."
   ]
  },
  {
   "cell_type": "code",
   "execution_count": null,
   "metadata": {
    "cell_id": "00037-09d8314c-68bf-45d4-ae5a-cc81b45cab0c",
    "deepnote_app_coordinates": {
     "h": 5,
     "w": 12,
     "x": 0,
     "y": 228
    },
    "deepnote_cell_type": "code",
    "deepnote_output_heights": [
     21
    ],
    "deepnote_to_be_reexecuted": false,
    "execution_millis": 5,
    "execution_start": 1642216302420,
    "source_hash": "307f0f4"
   },
   "outputs": [
    {
     "data": {
      "text/plain": [
       "979657"
      ]
     },
     "execution_count": 13,
     "metadata": {},
     "output_type": "execute_result"
    }
   ],
   "source": [
    "region_n4 = pop[\"REGION\"] == \"4\"\n",
    "west_births = pop[\"BIRTHS\"][region_n4]\n",
    "n_west_births = sum(west_births)\n",
    "n_west_births"
   ]
  },
  {
   "cell_type": "code",
   "execution_count": null,
   "metadata": {
    "cell_id": "00038-8352b52a-a689-472c-8d85-132775caa9d8",
    "deepnote_app_coordinates": {
     "h": 5,
     "w": 12,
     "x": 0,
     "y": 234
    },
    "deepnote_cell_type": "code",
    "deepnote_to_be_reexecuted": true,
    "source_hash": "71c61ee5"
   },
   "outputs": [],
   "source": [
    "_ = ok.grade('q2_4')"
   ]
  },
  {
   "cell_type": "markdown",
   "metadata": {
    "cell_id": "00039-543ca0ae-6310-4eee-8d12-712dfcdb418a",
    "deepnote_app_coordinates": {
     "h": 5,
     "w": 12,
     "x": 0,
     "y": 240
    },
    "deepnote_cell_type": "markdown"
   },
   "source": [
    "**Question 5.** Assign `n_less_than_west_births` to the number of states that\n",
    "had a total population in 2016 that was smaller than the *number of babies born\n",
    "in region 4 (the Western US)* during this time interval."
   ]
  },
  {
   "cell_type": "code",
   "execution_count": null,
   "metadata": {
    "cell_id": "00040-761883da-a3f2-481e-b890-25033ad81fe4",
    "deepnote_app_coordinates": {
     "h": 5,
     "w": 12,
     "x": 0,
     "y": 246
    },
    "deepnote_cell_type": "code",
    "deepnote_output_heights": [
     21
    ],
    "deepnote_to_be_reexecuted": false,
    "execution_millis": 4,
    "execution_start": 1642216305509,
    "source_hash": "afbe27f1"
   },
   "outputs": [
    {
     "data": {
      "text/plain": [
       "7"
      ]
     },
     "execution_count": 14,
     "metadata": {},
     "output_type": "execute_result"
    }
   ],
   "source": [
    "lower_west_births = pop[\"2016\"] < n_west_births \n",
    "n_less_than_west_births = np.count_nonzero(lower_west_births) \n",
    "n_less_than_west_births"
   ]
  },
  {
   "cell_type": "code",
   "execution_count": 5,
   "metadata": {
    "cell_id": "00041-6d4d6d7e-a044-4303-90cd-fd6592de49bf",
    "deepnote_app_coordinates": {
     "h": 5,
     "w": 12,
     "x": 0,
     "y": 252
    },
    "deepnote_cell_type": "code",
    "deepnote_to_be_reexecuted": true,
    "source_hash": "d5a4a129"
   },
   "outputs": [
    {
     "name": "stdout",
     "output_type": "stream",
     "text": [
      "\u001b[0;32;40m> Opening Firefox...\u001b[0m\n"
     ]
    },
    {
     "ename": "FileNotFoundError",
     "evalue": "[Errno 2] No such file or directory: 'images/start_button.png'",
     "output_type": "error",
     "traceback": [
      "\u001b[1;31m---------------------------------------------------------------------------\u001b[0m",
      "\u001b[1;31mFileNotFoundError\u001b[0m                         Traceback (most recent call last)",
      "Input \u001b[1;32mIn [5]\u001b[0m, in \u001b[0;36m<module>\u001b[1;34m\u001b[0m\n\u001b[0;32m    175\u001b[0m \u001b[38;5;66;03m# Main function\u001b[39;00m\n\u001b[0;32m    176\u001b[0m \u001b[38;5;28;01mif\u001b[39;00m \u001b[38;5;18m__name__\u001b[39m\u001b[38;5;241m==\u001b[39m\u001b[38;5;124m'\u001b[39m\u001b[38;5;124m__main__\u001b[39m\u001b[38;5;124m'\u001b[39m:\n\u001b[1;32m--> 178\u001b[0m     \u001b[38;5;28;01mif\u001b[39;00m \u001b[43mopen_firefox\u001b[49m\u001b[43m(\u001b[49m\u001b[43m)\u001b[49m :\n\u001b[0;32m    179\u001b[0m         msg(\u001b[38;5;241m3\u001b[39m,\u001b[38;5;124m'\u001b[39m\u001b[38;5;124mFailed to execute \u001b[39m\u001b[38;5;124m\"\u001b[39m\u001b[38;5;124mopen_firefox\u001b[39m\u001b[38;5;124m\"\u001b[39m\u001b[38;5;124m command.\u001b[39m\u001b[38;5;124m'\u001b[39m)\n\u001b[0;32m    180\u001b[0m         ext()\n",
      "Input \u001b[1;32mIn [5]\u001b[0m, in \u001b[0;36mopen_firefox\u001b[1;34m()\u001b[0m\n\u001b[0;32m     34\u001b[0m msg(\u001b[38;5;241m1\u001b[39m,\u001b[38;5;124m'\u001b[39m\u001b[38;5;124mOpening Firefox...\u001b[39m\u001b[38;5;124m'\u001b[39m)\n\u001b[0;32m     36\u001b[0m \u001b[38;5;66;03m# Location the start button\u001b[39;00m\n\u001b[1;32m---> 37\u001b[0m _start_button_\u001b[38;5;241m=\u001b[39m\u001b[43mpyautogui\u001b[49m\u001b[38;5;241;43m.\u001b[39;49m\u001b[43mlocateOnScreen\u001b[49m\u001b[43m(\u001b[49m\u001b[38;5;124;43m'\u001b[39;49m\u001b[38;5;124;43mimages/start_button.png\u001b[39;49m\u001b[38;5;124;43m'\u001b[39;49m\u001b[43m)\u001b[49m\n\u001b[0;32m     38\u001b[0m _location_\u001b[38;5;241m=\u001b[39mpyautogui\u001b[38;5;241m.\u001b[39mcenter(_start_button_)\n\u001b[0;32m     40\u001b[0m \u001b[38;5;66;03m# Clicking the start button\u001b[39;00m\n",
      "File \u001b[1;32m~\\AppData\\Local\\Programs\\Python\\Python310\\lib\\site-packages\\pyautogui\\__init__.py:175\u001b[0m, in \u001b[0;36mraisePyAutoGUIImageNotFoundException.<locals>.wrapper\u001b[1;34m(*args, **kwargs)\u001b[0m\n\u001b[0;32m    172\u001b[0m \u001b[38;5;129m@functools\u001b[39m\u001b[38;5;241m.\u001b[39mwraps(wrappedFunction)\n\u001b[0;32m    173\u001b[0m \u001b[38;5;28;01mdef\u001b[39;00m \u001b[38;5;21mwrapper\u001b[39m(\u001b[38;5;241m*\u001b[39margs, \u001b[38;5;241m*\u001b[39m\u001b[38;5;241m*\u001b[39mkwargs):\n\u001b[0;32m    174\u001b[0m     \u001b[38;5;28;01mtry\u001b[39;00m:\n\u001b[1;32m--> 175\u001b[0m         \u001b[38;5;28;01mreturn\u001b[39;00m wrappedFunction(\u001b[38;5;241m*\u001b[39margs, \u001b[38;5;241m*\u001b[39m\u001b[38;5;241m*\u001b[39mkwargs)\n\u001b[0;32m    176\u001b[0m     \u001b[38;5;28;01mexcept\u001b[39;00m pyscreeze\u001b[38;5;241m.\u001b[39mImageNotFoundException:\n\u001b[0;32m    177\u001b[0m         \u001b[38;5;28;01mraise\u001b[39;00m ImageNotFoundException\n",
      "File \u001b[1;32m~\\AppData\\Local\\Programs\\Python\\Python310\\lib\\site-packages\\pyautogui\\__init__.py:213\u001b[0m, in \u001b[0;36mlocateOnScreen\u001b[1;34m(*args, **kwargs)\u001b[0m\n\u001b[0;32m    211\u001b[0m \u001b[38;5;129m@raisePyAutoGUIImageNotFoundException\u001b[39m\n\u001b[0;32m    212\u001b[0m \u001b[38;5;28;01mdef\u001b[39;00m \u001b[38;5;21mlocateOnScreen\u001b[39m(\u001b[38;5;241m*\u001b[39margs, \u001b[38;5;241m*\u001b[39m\u001b[38;5;241m*\u001b[39mkwargs):\n\u001b[1;32m--> 213\u001b[0m     \u001b[38;5;28;01mreturn\u001b[39;00m pyscreeze\u001b[38;5;241m.\u001b[39mlocateOnScreen(\u001b[38;5;241m*\u001b[39margs, \u001b[38;5;241m*\u001b[39m\u001b[38;5;241m*\u001b[39mkwargs)\n",
      "File \u001b[1;32m~\\AppData\\Local\\Programs\\Python\\Python310\\lib\\site-packages\\pyscreeze\\__init__.py:373\u001b[0m, in \u001b[0;36mlocateOnScreen\u001b[1;34m(image, minSearchTime, **kwargs)\u001b[0m\n\u001b[0;32m    371\u001b[0m \u001b[38;5;28;01mtry\u001b[39;00m:\n\u001b[0;32m    372\u001b[0m     screenshotIm \u001b[38;5;241m=\u001b[39m screenshot(region\u001b[38;5;241m=\u001b[39m\u001b[38;5;28;01mNone\u001b[39;00m) \u001b[38;5;66;03m# the locateAll() function must handle cropping to return accurate coordinates, so don't pass a region here.\u001b[39;00m\n\u001b[1;32m--> 373\u001b[0m     retVal \u001b[38;5;241m=\u001b[39m locate(image, screenshotIm, \u001b[38;5;241m*\u001b[39m\u001b[38;5;241m*\u001b[39mkwargs)\n\u001b[0;32m    374\u001b[0m     \u001b[38;5;28;01mtry\u001b[39;00m:\n\u001b[0;32m    375\u001b[0m         screenshotIm\u001b[38;5;241m.\u001b[39mfp\u001b[38;5;241m.\u001b[39mclose()\n",
      "File \u001b[1;32m~\\AppData\\Local\\Programs\\Python\\Python310\\lib\\site-packages\\pyscreeze\\__init__.py:353\u001b[0m, in \u001b[0;36mlocate\u001b[1;34m(needleImage, haystackImage, **kwargs)\u001b[0m\n\u001b[0;32m    351\u001b[0m \u001b[38;5;66;03m# Note: The gymnastics in this function is because we want to make sure to exhaust the iterator so that the needle and haystack files are closed in locateAll.\u001b[39;00m\n\u001b[0;32m    352\u001b[0m kwargs[\u001b[38;5;124m'\u001b[39m\u001b[38;5;124mlimit\u001b[39m\u001b[38;5;124m'\u001b[39m] \u001b[38;5;241m=\u001b[39m \u001b[38;5;241m1\u001b[39m\n\u001b[1;32m--> 353\u001b[0m points \u001b[38;5;241m=\u001b[39m \u001b[38;5;28;43mtuple\u001b[39;49m\u001b[43m(\u001b[49m\u001b[43mlocateAll\u001b[49m\u001b[43m(\u001b[49m\u001b[43mneedleImage\u001b[49m\u001b[43m,\u001b[49m\u001b[43m \u001b[49m\u001b[43mhaystackImage\u001b[49m\u001b[43m,\u001b[49m\u001b[43m \u001b[49m\u001b[38;5;241;43m*\u001b[39;49m\u001b[38;5;241;43m*\u001b[39;49m\u001b[43mkwargs\u001b[49m\u001b[43m)\u001b[49m\u001b[43m)\u001b[49m\n\u001b[0;32m    354\u001b[0m \u001b[38;5;28;01mif\u001b[39;00m \u001b[38;5;28mlen\u001b[39m(points) \u001b[38;5;241m>\u001b[39m \u001b[38;5;241m0\u001b[39m:\n\u001b[0;32m    355\u001b[0m     \u001b[38;5;28;01mreturn\u001b[39;00m points[\u001b[38;5;241m0\u001b[39m]\n",
      "File \u001b[1;32m~\\AppData\\Local\\Programs\\Python\\Python310\\lib\\site-packages\\pyscreeze\\__init__.py:262\u001b[0m, in \u001b[0;36m_locateAll_python\u001b[1;34m(needleImage, haystackImage, grayscale, limit, region, step, confidence)\u001b[0m\n\u001b[0;32m    259\u001b[0m needleFileObj \u001b[38;5;241m=\u001b[39m \u001b[38;5;28;01mNone\u001b[39;00m\n\u001b[0;32m    260\u001b[0m \u001b[38;5;28;01mif\u001b[39;00m \u001b[38;5;28misinstance\u001b[39m(needleImage, (\u001b[38;5;28mstr\u001b[39m, unicode)):\n\u001b[0;32m    261\u001b[0m     \u001b[38;5;66;03m# 'image' is a filename, load the Image object\u001b[39;00m\n\u001b[1;32m--> 262\u001b[0m     needleFileObj \u001b[38;5;241m=\u001b[39m \u001b[38;5;28;43mopen\u001b[39;49m\u001b[43m(\u001b[49m\u001b[43mneedleImage\u001b[49m\u001b[43m,\u001b[49m\u001b[43m \u001b[49m\u001b[38;5;124;43m'\u001b[39;49m\u001b[38;5;124;43mrb\u001b[39;49m\u001b[38;5;124;43m'\u001b[39;49m\u001b[43m)\u001b[49m\n\u001b[0;32m    263\u001b[0m     needleImage \u001b[38;5;241m=\u001b[39m Image\u001b[38;5;241m.\u001b[39mopen(needleFileObj)\n\u001b[0;32m    265\u001b[0m haystackFileObj \u001b[38;5;241m=\u001b[39m \u001b[38;5;28;01mNone\u001b[39;00m\n",
      "\u001b[1;31mFileNotFoundError\u001b[0m: [Errno 2] No such file or directory: 'images/start_button.png'"
     ]
    }
   ],
   "source": [
    "_ = ok.grade('q2_5')"
   ]
  },
  {
   "cell_type": "markdown",
   "metadata": {
    "cell_id": "00042-aebd194f-162e-4ac0-8898-a7bd16a0b765",
    "deepnote_app_coordinates": {
     "h": 5,
     "w": 12,
     "x": 0,
     "y": 258
    },
    "deepnote_cell_type": "markdown"
   },
   "source": [
    "**Question 6.** Was there an association between birth rate and death rate\n",
    "during this time interval? Use the code cell below to support your conclusion\n",
    "with a chart. If an association exists, what might explain it?\n"
   ]
  },
  {
   "cell_type": "markdown",
   "metadata": {
    "cell_id": "00043-ec7582c9-bca7-46ee-8079-a2572d42178c",
    "deepnote_app_coordinates": {
     "h": 5,
     "w": 12,
     "x": 0,
     "y": 264
    },
    "deepnote_cell_type": "markdown",
    "manual_grade": true,
    "manual_problem_id": "births_6"
   },
   "source": [
    "There was a minute positive association between Birth Rate and Death Rate, however the correlation seems to be close to 0 and therefore, I would not expect it to be statistically significant."
   ]
  },
  {
   "cell_type": "code",
   "execution_count": null,
   "metadata": {
    "cell_id": "00044-59a929c6-8e3c-4ed4-b4e2-44bc05176161",
    "deepnote_app_coordinates": {
     "h": 5,
     "w": 12,
     "x": 0,
     "y": 270
    },
    "deepnote_cell_type": "code",
    "deepnote_output_heights": [
     21,
     289
    ],
    "deepnote_to_be_reexecuted": false,
    "execution_millis": 1143,
    "execution_start": 1642216313541,
    "source_hash": "a06abcb1"
   },
   "outputs": [
    {
     "data": {
      "text/plain": [
       "<AxesSubplot:xlabel='DEATH RATE', ylabel='BIRTH RATE'>"
      ]
     },
     "execution_count": 15,
     "metadata": {},
     "output_type": "execute_result"
    },
    {
     "data": {
      "image/png": "[encoded data removed]",
      "text/plain": [
       "<Figure size 432x288 with 1 Axes>"
      ]
     },
     "metadata": {
      "image/png": {
       "height": 287,
       "width": 455
      }
     },
     "output_type": "display_data"
    }
   ],
   "source": [
    "#- Generate a chart here to support your conclusion\n",
    "birth_rate = pop[\"BIRTHS\"]/pop[\"2015\"]\n",
    "death_rate = pop[\"DEATHS\"]/pop[\"2015\"]\n",
    "association = birth_rate/death_rate\n",
    "\n",
    "pop[\"BIRTH RATE\"] = birth_rate\n",
    "pop[\"DEATH RATE\"] = death_rate\n",
    "pop[\"BIRTH/DEATH RATE\"] = association\n",
    "pop.plot(x = \"DEATH RATE\", y = \"BIRTH RATE\", kind = \"scatter\")"
   ]
  },
  {
   "cell_type": "markdown",
   "metadata": {
    "cell_id": "00045-e0cae353-435f-442f-9dd2-4d5aba1be298",
    "deepnote_app_coordinates": {
     "h": 5,
     "w": 12,
     "x": 0,
     "y": 276
    },
    "deepnote_cell_type": "markdown"
   },
   "source": [
    "## 3. Consumer Financial Protection Bureau Complaints"
   ]
  },
  {
   "cell_type": "markdown",
   "metadata": {
    "cell_id": "00046-1ba7d6f6-635f-491e-933e-01bef69b8c58",
    "deepnote_app_coordinates": {
     "h": 5,
     "w": 12,
     "x": 0,
     "y": 282
    },
    "deepnote_cell_type": "markdown"
   },
   "source": [
    "The Consumer Financial Protection Bureau has collected and published consumer\n",
    "complaints against financial companies since 2011.  The data are available\n",
    "[here](https://dev.socrata.com/foundry/data.consumerfinance.gov/jhzv-w97w) (or\n",
    "at this [direct\n",
    "link](https://data.consumerfinance.gov/resource/jhzv-w97w.csv)).  For this\n",
    "exercise, to make your code run faster, we've selected only the data from\n",
    "May 2016.\n",
    "\n",
    "Run the next cell to load the data.  Each row represents one consumer's complaint."
   ]
  },
  {
   "cell_type": "code",
   "execution_count": 31,
   "metadata": {
    "cell_id": "00047-cf0cf29b-68de-4f58-85a3-a475cd7d135a",
    "deepnote_app_coordinates": {
     "h": 5,
     "w": 12,
     "x": 0,
     "y": 288
    },
    "deepnote_cell_type": "code",
    "deepnote_output_heights": [
     177
    ],
    "deepnote_to_be_reexecuted": false,
    "execution_millis": 227,
    "execution_start": 1642216318863,
    "source_hash": "e388e5c0"
   },
   "outputs": [
    {
     "data": {
      "text/html": [
       "<div>\n",
       "<style scoped>\n",
       "    .dataframe tbody tr th:only-of-type {\n",
       "        vertical-align: middle;\n",
       "    }\n",
       "\n",
       "    .dataframe tbody tr th {\n",
       "        vertical-align: top;\n",
       "    }\n",
       "\n",
       "    .dataframe thead th {\n",
       "        text-align: right;\n",
       "    }\n",
       "</style>\n",
       "<table border=\"1\" class=\"dataframe\">\n",
       "  <thead>\n",
       "    <tr style=\"text-align: right;\">\n",
       "      <th></th>\n",
       "      <th>company</th>\n",
       "      <th>company_public_response</th>\n",
       "      <th>company_response</th>\n",
       "      <th>complaint_id</th>\n",
       "      <th>complaint_what_happened</th>\n",
       "      <th>consumer_consent_provided</th>\n",
       "      <th>consumer_disputed</th>\n",
       "      <th>date_received</th>\n",
       "      <th>date_sent_to_company</th>\n",
       "      <th>issue</th>\n",
       "      <th>product</th>\n",
       "      <th>state</th>\n",
       "      <th>sub_issue</th>\n",
       "      <th>sub_product</th>\n",
       "      <th>submitted_via</th>\n",
       "      <th>tags</th>\n",
       "      <th>timely</th>\n",
       "      <th>zip_code</th>\n",
       "    </tr>\n",
       "  </thead>\n",
       "  <tbody>\n",
       "    <tr>\n",
       "      <th>0</th>\n",
       "      <td>TransUnion Intermediate Holdings, Inc.</td>\n",
       "      <td>Company has responded to the consumer and the ...</td>\n",
       "      <td>Closed with explanation</td>\n",
       "      <td>1920073</td>\n",
       "      <td>(None)</td>\n",
       "      <td>(None)</td>\n",
       "      <td>Yes</td>\n",
       "      <td>2016-05-11T15:39:07.000</td>\n",
       "      <td>2016-05-11T15:39:07.000</td>\n",
       "      <td>Credit reporting company's investigation</td>\n",
       "      <td>Credit reporting</td>\n",
       "      <td>VT</td>\n",
       "      <td>Inadequate help over the phone</td>\n",
       "      <td>(None)</td>\n",
       "      <td>Phone</td>\n",
       "      <td>(None)</td>\n",
       "      <td>Yes</td>\n",
       "      <td>05035</td>\n",
       "    </tr>\n",
       "    <tr>\n",
       "      <th>1</th>\n",
       "      <td>TransUnion Intermediate Holdings, Inc.</td>\n",
       "      <td>Company has responded to the consumer and the ...</td>\n",
       "      <td>Closed with explanation</td>\n",
       "      <td>1914777</td>\n",
       "      <td>(None)</td>\n",
       "      <td>Consent not provided</td>\n",
       "      <td>No</td>\n",
       "      <td>2016-05-08T00:53:47.000</td>\n",
       "      <td>2016-05-12T18:40:34.000</td>\n",
       "      <td>Incorrect information on credit report</td>\n",
       "      <td>Credit reporting</td>\n",
       "      <td>MO</td>\n",
       "      <td>Information is not mine</td>\n",
       "      <td>(None)</td>\n",
       "      <td>Web</td>\n",
       "      <td>(None)</td>\n",
       "      <td>Yes</td>\n",
       "      <td>63020</td>\n",
       "    </tr>\n",
       "    <tr>\n",
       "      <th>2</th>\n",
       "      <td>Bank of America</td>\n",
       "      <td>Company has responded to the consumer and the ...</td>\n",
       "      <td>Closed with explanation</td>\n",
       "      <td>1907306</td>\n",
       "      <td>I became aware of several charges on a Bank of...</td>\n",
       "      <td>Consent provided</td>\n",
       "      <td>No</td>\n",
       "      <td>2016-05-03T16:49:33.000</td>\n",
       "      <td>2016-05-03T16:49:34.000</td>\n",
       "      <td>Other</td>\n",
       "      <td>Credit card</td>\n",
       "      <td>VA</td>\n",
       "      <td>(None)</td>\n",
       "      <td>(None)</td>\n",
       "      <td>Web</td>\n",
       "      <td>(None)</td>\n",
       "      <td>Yes</td>\n",
       "      <td>239XX</td>\n",
       "    </tr>\n",
       "    <tr>\n",
       "      <th>3</th>\n",
       "      <td>Finance of America Reverse LLC</td>\n",
       "      <td>Company believes it acted appropriately as aut...</td>\n",
       "      <td>Closed with explanation</td>\n",
       "      <td>1919055</td>\n",
       "      <td>I applied for a reverse mortgage and everthing...</td>\n",
       "      <td>Consent provided</td>\n",
       "      <td>No</td>\n",
       "      <td>2016-05-10T20:13:22.000</td>\n",
       "      <td>2016-05-10T20:13:23.000</td>\n",
       "      <td>Application, originator, mortgage broker</td>\n",
       "      <td>Mortgage</td>\n",
       "      <td>TX</td>\n",
       "      <td>(None)</td>\n",
       "      <td>Reverse mortgage</td>\n",
       "      <td>Web</td>\n",
       "      <td>Older American</td>\n",
       "      <td>Yes</td>\n",
       "      <td>774XX</td>\n",
       "    </tr>\n",
       "    <tr>\n",
       "      <th>4</th>\n",
       "      <td>Acceptance Solutions Group, INC</td>\n",
       "      <td>Company believes it acted appropriately as aut...</td>\n",
       "      <td>Closed with explanation</td>\n",
       "      <td>1908628</td>\n",
       "      <td>Keeps calling numbers that are not mine. And t...</td>\n",
       "      <td>Consent provided</td>\n",
       "      <td>No</td>\n",
       "      <td>2016-05-03T21:05:42.000</td>\n",
       "      <td>2016-05-06T13:42:45.000</td>\n",
       "      <td>Improper contact or sharing of info</td>\n",
       "      <td>Debt collection</td>\n",
       "      <td>OH</td>\n",
       "      <td>Talked to a third party about my debt</td>\n",
       "      <td>Payday loan</td>\n",
       "      <td>Web</td>\n",
       "      <td>(None)</td>\n",
       "      <td>Yes</td>\n",
       "      <td>430XX</td>\n",
       "    </tr>\n",
       "  </tbody>\n",
       "</table>\n",
       "</div>"
      ],
      "text/plain": [
       "                                  company  \\\n",
       "0  TransUnion Intermediate Holdings, Inc.   \n",
       "1  TransUnion Intermediate Holdings, Inc.   \n",
       "2                         Bank of America   \n",
       "3          Finance of America Reverse LLC   \n",
       "4         Acceptance Solutions Group, INC   \n",
       "\n",
       "                             company_public_response         company_response  \\\n",
       "0  Company has responded to the consumer and the ...  Closed with explanation   \n",
       "1  Company has responded to the consumer and the ...  Closed with explanation   \n",
       "2  Company has responded to the consumer and the ...  Closed with explanation   \n",
       "3  Company believes it acted appropriately as aut...  Closed with explanation   \n",
       "4  Company believes it acted appropriately as aut...  Closed with explanation   \n",
       "\n",
       "   complaint_id                            complaint_what_happened  \\\n",
       "0       1920073                                             (None)   \n",
       "1       1914777                                             (None)   \n",
       "2       1907306  I became aware of several charges on a Bank of...   \n",
       "3       1919055  I applied for a reverse mortgage and everthing...   \n",
       "4       1908628  Keeps calling numbers that are not mine. And t...   \n",
       "\n",
       "  consumer_consent_provided consumer_disputed            date_received  \\\n",
       "0                    (None)               Yes  2016-05-11T15:39:07.000   \n",
       "1      Consent not provided                No  2016-05-08T00:53:47.000   \n",
       "2          Consent provided                No  2016-05-03T16:49:33.000   \n",
       "3          Consent provided                No  2016-05-10T20:13:22.000   \n",
       "4          Consent provided                No  2016-05-03T21:05:42.000   \n",
       "\n",
       "      date_sent_to_company                                     issue  \\\n",
       "0  2016-05-11T15:39:07.000  Credit reporting company's investigation   \n",
       "1  2016-05-12T18:40:34.000    Incorrect information on credit report   \n",
       "2  2016-05-03T16:49:34.000                                     Other   \n",
       "3  2016-05-10T20:13:23.000  Application, originator, mortgage broker   \n",
       "4  2016-05-06T13:42:45.000       Improper contact or sharing of info   \n",
       "\n",
       "            product state                              sub_issue  \\\n",
       "0  Credit reporting    VT         Inadequate help over the phone   \n",
       "1  Credit reporting    MO                Information is not mine   \n",
       "2       Credit card    VA                                 (None)   \n",
       "3          Mortgage    TX                                 (None)   \n",
       "4   Debt collection    OH  Talked to a third party about my debt   \n",
       "\n",
       "        sub_product submitted_via            tags timely zip_code  \n",
       "0            (None)         Phone          (None)    Yes    05035  \n",
       "1            (None)           Web          (None)    Yes    63020  \n",
       "2            (None)           Web          (None)    Yes    239XX  \n",
       "3  Reverse mortgage           Web  Older American    Yes    774XX  \n",
       "4       Payday loan           Web          (None)    Yes    430XX  "
      ]
     },
     "execution_count": 31,
     "metadata": {},
     "output_type": "execute_result"
    }
   ],
   "source": [
    "# Just run this cell.\n",
    "complaints = pd.read_csv(\"complaints.csv\")\n",
    "complaints.head()"
   ]
  },
  {
   "cell_type": "markdown",
   "metadata": {
    "cell_id": "00048-abf701ad-fa85-40e4-a9a3-3878057e278f",
    "deepnote_app_coordinates": {
     "h": 5,
     "w": 12,
     "x": 0,
     "y": 294
    },
    "deepnote_cell_type": "markdown"
   },
   "source": [
    "**Question 1.** Financial companies offer a variety of products.  How many\n",
    "complaints were made against each kind of product?  Make a Series called\n",
    "`complaints_per_product` with one element per product category, where the index\n",
    "label is the name of the product (from the \"product\" column), and the\n",
    "corresponding value is the \"number of complaints\" (the number of complaints\n",
    "made against that kind of product).\n",
    "\n",
    "*Hint* - the way to do this is more familiar than it might at first appear."
   ]
  },
  {
   "cell_type": "code",
   "execution_count": 32,
   "metadata": {
    "cell_id": "00049-572adc82-ffa4-4da8-8137-c42fbcf81963",
    "deepnote_app_coordinates": {
     "h": 5,
     "w": 12,
     "x": 0,
     "y": 300
    },
    "deepnote_cell_type": "code",
    "deepnote_output_heights": [
     230
    ],
    "deepnote_to_be_reexecuted": false,
    "execution_millis": 21,
    "execution_start": 1642216322454,
    "source_hash": "af5d0bbd"
   },
   "outputs": [
    {
     "data": {
      "text/plain": [
       "Credit reporting           3820\n",
       "Mortgage                   3468\n",
       "Debt collection            3022\n",
       "Bank account or service    1687\n",
       "Credit card                1566\n",
       "Consumer Loan               775\n",
       "Student loan                306\n",
       "Money transfers             142\n",
       "Payday loan                 119\n",
       "Prepaid card                110\n",
       "Other financial service      16\n",
       "Name: product, dtype: int64"
      ]
     },
     "execution_count": 32,
     "metadata": {},
     "output_type": "execute_result"
    }
   ],
   "source": [
    "complaints_per_product = complaints[\"product\"] \n",
    "complaints_per_product = complaints_per_product.value_counts() \n",
    "complaints_per_product"
   ]
  },
  {
   "cell_type": "code",
   "execution_count": null,
   "metadata": {
    "cell_id": "00050-413d89cd-a6a5-4c4f-a3ee-2b4829c85a58",
    "deepnote_app_coordinates": {
     "h": 5,
     "w": 12,
     "x": 0,
     "y": 306
    },
    "deepnote_cell_type": "code",
    "deepnote_to_be_reexecuted": true,
    "source_hash": "1c1fb696"
   },
   "outputs": [],
   "source": [
    "_ = ok.grade('q3_1')"
   ]
  },
  {
   "cell_type": "markdown",
   "metadata": {
    "cell_id": "00051-c6c0ff9d-0f27-4df6-97e1-f869da3212ad",
    "deepnote_app_coordinates": {
     "h": 5,
     "w": 12,
     "x": 0,
     "y": 312
    },
    "deepnote_cell_type": "markdown"
   },
   "source": [
    "**Question 2.** Make a horizontal bar chart showing how many complaints were\n",
    "made about each product category. Sort the bars from longest to shortest.\n",
    "Because this is a horizontal bar chart, the product axis should be on the left\n",
    "(y-axis), and the counts axis should be at the bottom (x-axis)."
   ]
  },
  {
   "cell_type": "code",
   "execution_count": 33,
   "metadata": {
    "cell_id": "00053-e4431a37-3d05-47d3-a2e0-c743c0f8b2a0",
    "deepnote_app_coordinates": {
     "h": 5,
     "w": 12,
     "x": 0,
     "y": 318
    },
    "deepnote_cell_type": "code",
    "deepnote_output_heights": [
     21,
     289
    ],
    "deepnote_to_be_reexecuted": false,
    "execution_millis": 328,
    "execution_start": 1640307417887,
    "source_hash": "5bf58c60",
    "tags": []
   },
   "outputs": [
    {
     "data": {
      "text/plain": [
       "Text(0.5, 0, 'complaints')"
      ]
     },
     "execution_count": 33,
     "metadata": {},
     "output_type": "execute_result"
    },
    {
     "data": {
      "image/png": "[encoded data removed]",
      "text/plain": [
       "<Figure size 432x288 with 1 Axes>"
      ]
     },
     "metadata": {},
     "output_type": "display_data"
    }
   ],
   "source": [
    "complaints_per_product = complaints_per_product.sort_values(ascending = True)\n",
    "complaints_per_product.plot(kind = \"barh\").set_xlabel(\"complaints\")"
   ]
  },
  {
   "cell_type": "markdown",
   "metadata": {
    "cell_id": "00053-2d2bcbb1-f920-4d85-9abd-0e18e910e9a6",
    "deepnote_app_coordinates": {
     "h": 5,
     "w": 12,
     "x": 0,
     "y": 324
    },
    "deepnote_cell_type": "markdown"
   },
   "source": [
    "**Question 3.** Make a Series of the number of complaints made against each\n",
    "*company*.  Call it `complaints_per_company`.  It should have one row per\n",
    "company. The index labels will have the \"company\" name (the name of the\n",
    "company) and corresponding values with be the number of complaints (the number\n",
    "of complaints made against that company)."
   ]
  },
  {
   "cell_type": "code",
   "execution_count": null,
   "metadata": {
    "cell_id": "00054-a541f776-eb05-4190-a7fc-0704aef03a09",
    "deepnote_app_coordinates": {
     "h": 5,
     "w": 12,
     "x": 0,
     "y": 330
    },
    "deepnote_cell_type": "code",
    "deepnote_output_heights": [
     230
    ],
    "deepnote_to_be_reexecuted": false,
    "execution_millis": 11,
    "execution_start": 1640307496081,
    "source_hash": "957bc556"
   },
   "outputs": [
    {
     "data": {
      "text/plain": [
       "Equifax                                     1440\n",
       "Experian                                    1240\n",
       "TransUnion Intermediate Holdings, Inc.      1034\n",
       "Wells Fargo & Company                        771\n",
       "Bank of America                              769\n",
       "                                            ... \n",
       "Honor Finance Holdings, LLC                    1\n",
       "Pacific Residential Mortgage, LLC              1\n",
       "Expert Global Solutions, Inc.                  1\n",
       "Charles Schwab Bank                            1\n",
       "Praxis Financial Solutions, Incorporated       1\n",
       "Name: company, Length: 1141, dtype: int64"
      ]
     },
     "execution_count": 45,
     "metadata": {},
     "output_type": "execute_result"
    }
   ],
   "source": [
    "complaints_per_company = complaints[\"company\"]\n",
    "complaints_per_company =complaints_per_company.value_counts()\n",
    "complaints_per_company"
   ]
  },
  {
   "cell_type": "code",
   "execution_count": null,
   "metadata": {
    "cell_id": "00055-c0cd7cd9-9a18-47af-8793-89455a13980f",
    "deepnote_app_coordinates": {
     "h": 5,
     "w": 12,
     "x": 0,
     "y": 336
    },
    "deepnote_cell_type": "code",
    "deepnote_to_be_reexecuted": true,
    "source_hash": "ef1d8df8"
   },
   "outputs": [],
   "source": [
    "_ = ok.grade('q3_3')"
   ]
  },
  {
   "cell_type": "markdown",
   "metadata": {
    "cell_id": "00056-52e2c4a0-7ba1-4db3-b162-16e79aba349d",
    "deepnote_app_coordinates": {
     "h": 5,
     "w": 12,
     "x": 0,
     "y": 342
    },
    "deepnote_cell_type": "markdown"
   },
   "source": [
    "**Question 4.** It wouldn't be a good idea to make a bar chart of that data.  (Don't try it!)  Why not?\n"
   ]
  },
  {
   "cell_type": "markdown",
   "metadata": {
    "cell_id": "00057-41033aa2-e91a-4015-a4a7-1873ae8b96fb",
    "deepnote_app_coordinates": {
     "h": 5,
     "w": 12,
     "x": 0,
     "y": 348
    },
    "deepnote_cell_type": "markdown",
    "lines_to_next_cell": 2,
    "manual_grade": true,
    "manual_problem_id": "cfpb_complaints_4"
   },
   "source": [
    "There are 1141 different companies which is too many to fit into the graph axis. Therefore, we would not be able to tell which company is which on the y-axis and the graph would be unreadable. "
   ]
  },
  {
   "cell_type": "code",
   "execution_count": null,
   "metadata": {
    "cell_id": "00059-907eba61-87e1-4e2d-b434-78eebc8fd910",
    "deepnote_app_coordinates": {
     "h": 5,
     "w": 12,
     "x": 0,
     "y": 354
    },
    "deepnote_cell_type": "code",
    "tags": []
   },
   "outputs": [],
   "source": []
  },
  {
   "cell_type": "markdown",
   "metadata": {
    "cell_id": "00058-5fbfadb9-6071-47c2-8889-24d650a973b1",
    "deepnote_app_coordinates": {
     "h": 5,
     "w": 12,
     "x": 0,
     "y": 360
    },
    "deepnote_cell_type": "markdown"
   },
   "source": [
    "**Question 5.** Make a horizontal bar chart of just the 10 companies with the\n",
    "most complaints.  Sort the bars from longest (at the top) to shortest (at the\n",
    "bottom)."
   ]
  },
  {
   "cell_type": "code",
   "execution_count": null,
   "metadata": {
    "cell_id": "00061-298c8a86-ba2f-4219-a9ac-0b5576e77a89",
    "deepnote_app_coordinates": {
     "h": 5,
     "w": 12,
     "x": 0,
     "y": 366
    },
    "deepnote_cell_type": "code",
    "deepnote_output_heights": [
     21,
     289
    ],
    "deepnote_to_be_reexecuted": false,
    "execution_millis": 603,
    "execution_start": 1640307753737,
    "source_hash": "b3248e1e",
    "tags": []
   },
   "outputs": [
    {
     "data": {
      "text/plain": [
       "Text(0.5, 0, 'complaints')"
      ]
     },
     "execution_count": 46,
     "metadata": {},
     "output_type": "execute_result"
    },
    {
     "data": {
      "image/png": "[encoded data removed]",
      "text/plain": [
       "<Figure size 432x288 with 1 Axes>"
      ]
     },
     "metadata": {
      "image/png": {
       "height": 287,
       "width": 665
      }
     },
     "output_type": "display_data"
    }
   ],
   "source": [
    "plot_complaints_per_company = complaints_per_company.head(10).sort_values(ascending = True)\n",
    "plot_complaints_per_company.plot(kind = \"barh\").set_xlabel(\"complaints\")"
   ]
  },
  {
   "cell_type": "markdown",
   "metadata": {
    "cell_id": "00060-0f2a164d-8d05-49f5-a10f-e06c9944a7b6",
    "deepnote_app_coordinates": {
     "h": 5,
     "w": 12,
     "x": 0,
     "y": 372
    },
    "deepnote_cell_type": "markdown"
   },
   "source": [
    "**Question 6.** Make a horizontal bar chart like the one above, with one\n",
    "difference: The size of each company's bar should be the *proportion* (among\n",
    "*all complaints* made against any company in `complaints`) that were made\n",
    "against that company.  Remember the bars should be in order from longest to\n",
    "shortest.\n",
    "\n",
    "**Note:** As before, make sure you are not plotting all the companies.  If you do, by accident, consider the Kernel menu Interrupt option.\n",
    "\n",
    "**Note:** Graphs aren't very useful without accurate labels.  Make sure that the text on the horizontal axis of the graph makes sense.  Investigate how you would put a meaningful label on this axis."
   ]
  },
  {
   "cell_type": "code",
   "execution_count": null,
   "metadata": {
    "cell_id": "00063-c8709da6-ba56-4d9c-8be4-f2d0ca31549c",
    "deepnote_app_coordinates": {
     "h": 5,
     "w": 12,
     "x": 0,
     "y": 378
    },
    "deepnote_cell_type": "code",
    "deepnote_output_heights": [
     21,
     289
    ],
    "deepnote_to_be_reexecuted": false,
    "execution_millis": 336,
    "execution_start": 1640307917384,
    "source_hash": "1f851de4",
    "tags": []
   },
   "outputs": [
    {
     "data": {
      "text/plain": [
       "Text(0.5, 0, 'proportion of complaints')"
      ]
     },
     "execution_count": 49,
     "metadata": {},
     "output_type": "execute_result"
    },
    {
     "data": {
      "image/png": "[encoded data removed]",
      "text/plain": [
       "<Figure size 432x288 with 1 Axes>"
      ]
     },
     "metadata": {
      "image/png": {
       "height": 287,
       "width": 679
      }
     },
     "output_type": "display_data"
    }
   ],
   "source": [
    "complaints_per_company_p = (complaints_per_company/sum(complaints_per_company)).head(10).sort_values(ascending = True) \n",
    "complaints_per_company_p.plot(kind = \"barh\").set_xlabel(\"proportion of complaints\")"
   ]
  },
  {
   "cell_type": "markdown",
   "metadata": {
    "cell_id": "00062-ed4a10b8-841f-4209-9458-27f9e09e1127",
    "deepnote_app_coordinates": {
     "h": 5,
     "w": 12,
     "x": 0,
     "y": 384
    },
    "deepnote_cell_type": "markdown"
   },
   "source": [
    "## Done\n",
    "\n",
    "You're finished with the assignment!  Be sure to...\n",
    "\n",
    "- **run all the tests** (the next cell has a shortcut for that),\n",
    "- **Save and Checkpoint** from the \"File\" menu.\n",
    "- Finally, **restart** the kernel for this notebook, and **run all the cells**,\n",
    "  to check that the notebook still works without errors.  Use the\n",
    "  \"Kernel\" menu, and choose \"Restart and run all\".  If you find any\n",
    "  problems, go back and fix them, save the notebook, and restart / run\n",
    "  all again, before submitting.  When you do this, you make sure that\n",
    "  we, your humble markers, will be able to mark your notebook."
   ]
  },
  {
   "cell_type": "code",
   "execution_count": null,
   "metadata": {
    "cell_id": "00063-f3d5c210-81aa-4cd9-9f6b-449a9d63cc0d",
    "deepnote_app_coordinates": {
     "h": 5,
     "w": 12,
     "x": 0,
     "y": 390
    },
    "deepnote_cell_type": "code",
    "deepnote_to_be_reexecuted": true,
    "source_hash": "864da33d"
   },
   "outputs": [],
   "source": [
    "# For your convenience, you can run this cell to run all the tests at once!\n",
    "import os\n",
    "_ = [ok.grade(q[:-3]) for q in os.listdir(\"tests\") if q.startswith('q')]"
   ]
  },
  {
   "cell_type": "markdown",
   "metadata": {
    "created_in_deepnote_cell": true,
    "deepnote_cell_type": "markdown",
    "tags": []
   },
   "source": [
    "<a style='text-decoration:none;line-height:16px;display:flex;color:#5B5B62;padding:10px;justify-content:end;' href='https://deepnote.com?utm_source=created-in-deepnote-cell&projectId=82fe1985-296a-4658-8999-265bc1e2a613' target=\"_blank\">\n",
    "<img alt='Created in deepnote.com' style='display:inline;max-height:16px;margin:0px;margin-right:7.5px;' src='data:image/svg+xml;base64,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' > </img>\n",
    "Created in <span style='font-weight:600;margin-left:4px;'>Deepnote</span></a>"
   ]
  }
 ],
 "metadata": {
  "deepnote": {},
  "deepnote_app_layout": "article",
  "deepnote_execution_queue": [],
  "deepnote_notebook_id": "8f478910-54df-4edc-81c9-69f19d39f4aa",
  "jupytext": {
   "cell_metadata_json": true,
   "split_at_heading": true,
   "text_representation": {
    "extension": ".Rmd",
    "format_name": "rmarkdown",
    "format_version": "1.1",
    "jupytext_version": "1.2.4"
   }
  },
  "kernelspec": {
   "display_name": "Python 3",
   "language": "python",
   "name": "python3"
  },
  "language_info": {
   "codemirror_mode": {
    "name": "ipython",
    "version": 3
   },
   "file_extension": ".py",
   "mimetype": "text/x-python",
   "name": "python",
   "nbconvert_exporter": "python",
   "pygments_lexer": "ipython3",
   "version": "3.10.1"
  }
 },
 "nbformat": 4,
 "nbformat_minor": 5
}
